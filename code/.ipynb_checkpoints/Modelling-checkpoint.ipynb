{
 "cells": [
  {
   "cell_type": "markdown",
   "id": "34b4a205-f04a-4e07-881e-1960d55ccad4",
   "metadata": {},
   "source": [
    "# Project 3: Web APIs & NLP"
   ]
  },
  {
   "cell_type": "markdown",
   "id": "df28649d-aff5-4b99-b45f-67f3bf5149ad",
   "metadata": {},
   "source": [
    "## Import libraries"
   ]
  },
  {
   "cell_type": "code",
   "execution_count": 1,
   "id": "187d2983-05ff-4bfd-b2f1-c6982651380e",
   "metadata": {
    "tags": []
   },
   "outputs": [],
   "source": [
    "import pandas as pd\n",
    "import seaborn as sns\n",
    "import numpy as np\n",
    "import matplotlib.pyplot as plt\n",
    "\n",
    "from nltk.tokenize import RegexpTokenizer \n",
    "from nltk.stem import WordNetLemmatizer\n",
    "from nltk.corpus import stopwords\n",
    "from sklearn.feature_extraction.text import CountVectorizer, TfidfVectorizer\n",
    "from wordcloud import WordCloud, STOPWORDS, ImageColorGenerator\n",
    "\n",
    "\n",
    "# import libraries for modelling\n",
    "from sklearn.model_selection import cross_val_score, train_test_split, GridSearchCV\n",
    "from sklearn.pipeline import Pipeline\n",
    "\n",
    "# model\n",
    "from sklearn.naive_bayes import MultinomialNB\n",
    "from sklearn.ensemble import RandomForestClassifier\n",
    "from sklearn.linear_model import LogisticRegression\n",
    "from sklearn.neighbors import KNeighborsClassifier\n",
    "from sklearn.svm import LinearSVC, SVC\n",
    "\n",
    "# metrics\n",
    "from sklearn.metrics import confusion_matrix, plot_confusion_matrix, f1_score, classification_report, plot_roc_curve, roc_curve, auc\n",
    "\n",
    "tvec = TfidfVectorizer()\n",
    "cvec = CountVectorizer()"
   ]
  },
  {
   "cell_type": "markdown",
   "id": "4f66c01f-d4df-456b-8b29-df8079e9fab1",
   "metadata": {},
   "source": [
    "## Read csv file"
   ]
  },
  {
   "cell_type": "code",
   "execution_count": 2,
   "id": "c5a6de3e-2f1b-4c28-a0f1-7c4cfabe8e87",
   "metadata": {},
   "outputs": [
    {
     "name": "stdout",
     "output_type": "stream",
     "text": [
      "(8260, 8)\n"
     ]
    },
    {
     "data": {
      "text/html": [
       "<div>\n",
       "<style scoped>\n",
       "    .dataframe tbody tr th:only-of-type {\n",
       "        vertical-align: middle;\n",
       "    }\n",
       "\n",
       "    .dataframe tbody tr th {\n",
       "        vertical-align: top;\n",
       "    }\n",
       "\n",
       "    .dataframe thead th {\n",
       "        text-align: right;\n",
       "    }\n",
       "</style>\n",
       "<table border=\"1\" class=\"dataframe\">\n",
       "  <thead>\n",
       "    <tr style=\"text-align: right;\">\n",
       "      <th></th>\n",
       "      <th>title</th>\n",
       "      <th>subreddit</th>\n",
       "      <th>target</th>\n",
       "      <th>char_count</th>\n",
       "      <th>word_count</th>\n",
       "      <th>processed_title</th>\n",
       "      <th>no_stopword_title</th>\n",
       "      <th>processed_wordcount</th>\n",
       "    </tr>\n",
       "  </thead>\n",
       "  <tbody>\n",
       "    <tr>\n",
       "      <th>0</th>\n",
       "      <td>Surgeon Kind Of Pissed Patient Seeing Her Defo...</td>\n",
       "      <td>TheOnion</td>\n",
       "      <td>0</td>\n",
       "      <td>109</td>\n",
       "      <td>19</td>\n",
       "      <td>surgeon kind of pissed patient seeing her defo...</td>\n",
       "      <td>surgeon kind pissed patient seeing deformed fa...</td>\n",
       "      <td>19</td>\n",
       "    </tr>\n",
       "    <tr>\n",
       "      <th>1</th>\n",
       "      <td>McDonald’s blocked from building drive-through...</td>\n",
       "      <td>TheOnion</td>\n",
       "      <td>0</td>\n",
       "      <td>83</td>\n",
       "      <td>11</td>\n",
       "      <td>mcdonald s blocked from building drive through...</td>\n",
       "      <td>mcdonald blocked building drive rome ancient b...</td>\n",
       "      <td>14</td>\n",
       "    </tr>\n",
       "    <tr>\n",
       "      <th>2</th>\n",
       "      <td>Gwyneth Paltrow Touts New Diamond-Encrusted Tr...</td>\n",
       "      <td>TheOnion</td>\n",
       "      <td>0</td>\n",
       "      <td>89</td>\n",
       "      <td>11</td>\n",
       "      <td>gwyneth paltrow tout new diamond encrusted tre...</td>\n",
       "      <td>gwyneth paltrow tout new diamond encrusted tre...</td>\n",
       "      <td>12</td>\n",
       "    </tr>\n",
       "    <tr>\n",
       "      <th>3</th>\n",
       "      <td>Artist Crafting Music Box Hopes It Delights At...</td>\n",
       "      <td>TheOnion</td>\n",
       "      <td>0</td>\n",
       "      <td>81</td>\n",
       "      <td>13</td>\n",
       "      <td>artist crafting music box hope it delight at l...</td>\n",
       "      <td>artist crafting music box hope delight least o...</td>\n",
       "      <td>14</td>\n",
       "    </tr>\n",
       "    <tr>\n",
       "      <th>4</th>\n",
       "      <td>Homeowner Trying To Smoke Out Snakes Accidenta...</td>\n",
       "      <td>TheOnion</td>\n",
       "      <td>0</td>\n",
       "      <td>66</td>\n",
       "      <td>10</td>\n",
       "      <td>homeowner trying to smoke out snake accidental...</td>\n",
       "      <td>homeowner trying smoke snake accidentally burn...</td>\n",
       "      <td>10</td>\n",
       "    </tr>\n",
       "  </tbody>\n",
       "</table>\n",
       "</div>"
      ],
      "text/plain": [
       "                                               title subreddit  target  \\\n",
       "0  Surgeon Kind Of Pissed Patient Seeing Her Defo...  TheOnion       0   \n",
       "1  McDonald’s blocked from building drive-through...  TheOnion       0   \n",
       "2  Gwyneth Paltrow Touts New Diamond-Encrusted Tr...  TheOnion       0   \n",
       "3  Artist Crafting Music Box Hopes It Delights At...  TheOnion       0   \n",
       "4  Homeowner Trying To Smoke Out Snakes Accidenta...  TheOnion       0   \n",
       "\n",
       "   char_count  word_count                                    processed_title  \\\n",
       "0         109          19  surgeon kind of pissed patient seeing her defo...   \n",
       "1          83          11  mcdonald s blocked from building drive through...   \n",
       "2          89          11  gwyneth paltrow tout new diamond encrusted tre...   \n",
       "3          81          13  artist crafting music box hope it delight at l...   \n",
       "4          66          10  homeowner trying to smoke out snake accidental...   \n",
       "\n",
       "                                   no_stopword_title  processed_wordcount  \n",
       "0  surgeon kind pissed patient seeing deformed fa...                   19  \n",
       "1  mcdonald blocked building drive rome ancient b...                   14  \n",
       "2  gwyneth paltrow tout new diamond encrusted tre...                   12  \n",
       "3  artist crafting music box hope delight least o...                   14  \n",
       "4  homeowner trying smoke snake accidentally burn...                   10  "
      ]
     },
     "execution_count": 2,
     "metadata": {},
     "output_type": "execute_result"
    }
   ],
   "source": [
    "reddit_post = pd.read_csv(\"../datasets/cleaned_reddit_post.csv\") # read csv file\n",
    "\n",
    "print(reddit_post.shape)\n",
    "reddit_post.head()"
   ]
  },
  {
   "cell_type": "code",
   "execution_count": 3,
   "id": "61d5aa47-4057-45ec-beb4-14a3b4620dd7",
   "metadata": {},
   "outputs": [
    {
     "data": {
      "text/plain": [
       "title                  object\n",
       "subreddit              object\n",
       "target                  int64\n",
       "char_count              int64\n",
       "word_count              int64\n",
       "processed_title        object\n",
       "no_stopword_title      object\n",
       "processed_wordcount     int64\n",
       "dtype: object"
      ]
     },
     "execution_count": 3,
     "metadata": {},
     "output_type": "execute_result"
    }
   ],
   "source": [
    "reddit_post.dtypes"
   ]
  },
  {
   "cell_type": "code",
   "execution_count": 4,
   "id": "7df935ac-fd7a-4ce5-9929-132692a539e1",
   "metadata": {},
   "outputs": [
    {
     "data": {
      "text/html": [
       "<div>\n",
       "<style scoped>\n",
       "    .dataframe tbody tr th:only-of-type {\n",
       "        vertical-align: middle;\n",
       "    }\n",
       "\n",
       "    .dataframe tbody tr th {\n",
       "        vertical-align: top;\n",
       "    }\n",
       "\n",
       "    .dataframe thead th {\n",
       "        text-align: right;\n",
       "    }\n",
       "</style>\n",
       "<table border=\"1\" class=\"dataframe\">\n",
       "  <thead>\n",
       "    <tr style=\"text-align: right;\">\n",
       "      <th></th>\n",
       "      <th>target</th>\n",
       "      <th>char_count</th>\n",
       "      <th>word_count</th>\n",
       "      <th>processed_wordcount</th>\n",
       "    </tr>\n",
       "  </thead>\n",
       "  <tbody>\n",
       "    <tr>\n",
       "      <th>count</th>\n",
       "      <td>8260.000000</td>\n",
       "      <td>8260.000000</td>\n",
       "      <td>8260.000000</td>\n",
       "      <td>8260.000000</td>\n",
       "    </tr>\n",
       "    <tr>\n",
       "      <th>mean</th>\n",
       "      <td>0.438499</td>\n",
       "      <td>78.553511</td>\n",
       "      <td>12.813317</td>\n",
       "      <td>13.256901</td>\n",
       "    </tr>\n",
       "    <tr>\n",
       "      <th>std</th>\n",
       "      <td>0.496233</td>\n",
       "      <td>31.376573</td>\n",
       "      <td>5.393535</td>\n",
       "      <td>5.591893</td>\n",
       "    </tr>\n",
       "    <tr>\n",
       "      <th>min</th>\n",
       "      <td>0.000000</td>\n",
       "      <td>9.000000</td>\n",
       "      <td>3.000000</td>\n",
       "      <td>3.000000</td>\n",
       "    </tr>\n",
       "    <tr>\n",
       "      <th>25%</th>\n",
       "      <td>0.000000</td>\n",
       "      <td>59.000000</td>\n",
       "      <td>9.000000</td>\n",
       "      <td>10.000000</td>\n",
       "    </tr>\n",
       "    <tr>\n",
       "      <th>50%</th>\n",
       "      <td>0.000000</td>\n",
       "      <td>76.000000</td>\n",
       "      <td>12.000000</td>\n",
       "      <td>13.000000</td>\n",
       "    </tr>\n",
       "    <tr>\n",
       "      <th>75%</th>\n",
       "      <td>1.000000</td>\n",
       "      <td>94.000000</td>\n",
       "      <td>15.000000</td>\n",
       "      <td>16.000000</td>\n",
       "    </tr>\n",
       "    <tr>\n",
       "      <th>max</th>\n",
       "      <td>1.000000</td>\n",
       "      <td>303.000000</td>\n",
       "      <td>54.000000</td>\n",
       "      <td>54.000000</td>\n",
       "    </tr>\n",
       "  </tbody>\n",
       "</table>\n",
       "</div>"
      ],
      "text/plain": [
       "            target   char_count   word_count  processed_wordcount\n",
       "count  8260.000000  8260.000000  8260.000000          8260.000000\n",
       "mean      0.438499    78.553511    12.813317            13.256901\n",
       "std       0.496233    31.376573     5.393535             5.591893\n",
       "min       0.000000     9.000000     3.000000             3.000000\n",
       "25%       0.000000    59.000000     9.000000            10.000000\n",
       "50%       0.000000    76.000000    12.000000            13.000000\n",
       "75%       1.000000    94.000000    15.000000            16.000000\n",
       "max       1.000000   303.000000    54.000000            54.000000"
      ]
     },
     "execution_count": 4,
     "metadata": {},
     "output_type": "execute_result"
    }
   ],
   "source": [
    "reddit_post.describe()"
   ]
  },
  {
   "cell_type": "markdown",
   "id": "6a3ce59c-beb0-4df4-a4df-d45da92e74e0",
   "metadata": {},
   "source": [
    "## 03 Building Model"
   ]
  },
  {
   "cell_type": "markdown",
   "id": "276a3cab-f291-48b3-9d04-5979cfdecce4",
   "metadata": {},
   "source": [
    "### Train Test Split\n"
   ]
  },
  {
   "cell_type": "code",
   "execution_count": 5,
   "id": "07f0d35f-b121-4ede-a034-66cb1c564479",
   "metadata": {},
   "outputs": [],
   "source": [
    "X = reddit_post['processed_title']\n",
    "y = reddit_post['target']"
   ]
  },
  {
   "cell_type": "code",
   "execution_count": 6,
   "id": "03713f1a-7692-46da-a9e7-41a8008eccbb",
   "metadata": {},
   "outputs": [],
   "source": [
    "# Train test split\n",
    "\n",
    "X_train, X_test, y_train, y_test = train_test_split(X,y, test_size=0.25, stratify=y, random_state=42)"
   ]
  },
  {
   "cell_type": "markdown",
   "id": "c598f535-f75e-4a18-8f59-0c9aaf259b13",
   "metadata": {},
   "source": [
    "#### Top word for train_df"
   ]
  },
  {
   "cell_type": "code",
   "execution_count": 7,
   "id": "ff324d79-046b-455c-8849-18b4dd5e8c3e",
   "metadata": {},
   "outputs": [
    {
     "data": {
      "image/png": "[encoded data removed]",
      "text/plain": [
       "<Figure size 432x288 with 1 Axes>"
      ]
     },
     "metadata": {
      "needs_background": "light"
     },
     "output_type": "display_data"
    }
   ],
   "source": [
    "# Top word\n",
    "# convert training data to dataframe\n",
    "X_train_word = pd.DataFrame(cvec.fit_transform(X_train).todense(), \n",
    "                          columns=cvec.get_feature_names())\n",
    "\n",
    "# plot top occuring words\n",
    "X_train_word.sum().sort_values(ascending=False).head(10).plot(kind='barh');"
   ]
  },
  {
   "cell_type": "markdown",
   "id": "93d55a30-60d8-4ced-8b9d-ee9a0f431a97",
   "metadata": {},
   "source": [
    "### Baseline score"
   ]
  },
  {
   "cell_type": "code",
   "execution_count": 8,
   "id": "b2736797-4ced-4f17-8d79-0ab5b19530d6",
   "metadata": {},
   "outputs": [
    {
     "data": {
      "text/plain": [
       "0    0.561743\n",
       "1    0.438257\n",
       "Name: target, dtype: float64"
      ]
     },
     "execution_count": 8,
     "metadata": {},
     "output_type": "execute_result"
    }
   ],
   "source": [
    "y_test.value_counts(normalize=True)"
   ]
  },
  {
   "cell_type": "markdown",
   "id": "a91d21fd-c0ea-41b7-98b0-a48374992f1e",
   "metadata": {},
   "source": [
    "### Compare CountVectorizer vs TF-IDF Vectorizer and use gridsearchcv to find best params for vectorizer"
   ]
  },
  {
   "cell_type": "markdown",
   "id": "574d067e-29f9-429a-ab21-3cfa2ccaa87b",
   "metadata": {},
   "source": [
    "### MultinomialNB model w CountVectorizer"
   ]
  },
  {
   "cell_type": "code",
   "execution_count": 9,
   "id": "6cc8af18-6267-4a46-a226-c471003c7b0c",
   "metadata": {},
   "outputs": [],
   "source": [
    "# setup pipeline\n",
    "\n",
    "pipe = Pipeline([\n",
    "    ('cvec', CountVectorizer()),\n",
    "    ('nb', MultinomialNB())\n",
    "])"
   ]
  },
  {
   "cell_type": "code",
   "execution_count": 10,
   "id": "c775f0f4-6a46-4ded-9745-0d65e1b9cde3",
   "metadata": {},
   "outputs": [],
   "source": [
    "# setup hyperparameters for countvectorizer\n",
    "\n",
    "pipe_params = {\n",
    "    'cvec__max_features': [None,1000, 2000, 3000],\n",
    "    'cvec__stop_words': [None, 'english'],\n",
    "    'cvec__min_df': [0, 1],\n",
    "    'cvec__max_df': [.9, .95],\n",
    "    'cvec__ngram_range': [(1,1), (1,2),(2,2)]\n",
    "}"
   ]
  },
  {
   "cell_type": "code",
   "execution_count": 11,
   "id": "8ddf295b-c39f-45f1-85dc-12baf4aa24d6",
   "metadata": {},
   "outputs": [],
   "source": [
    "# Instantiate GridSearchCV\n",
    "\n",
    "gs_cvec = GridSearchCV(pipe, \n",
    "                  param_grid=pipe_params, \n",
    "                  cv=5)"
   ]
  },
  {
   "cell_type": "code",
   "execution_count": 12,
   "id": "16593bf5-ed49-42ff-869e-322d790f76ef",
   "metadata": {},
   "outputs": [
    {
     "data": {
      "text/plain": [
       "GridSearchCV(cv=5,\n",
       "             estimator=Pipeline(steps=[('cvec', CountVectorizer()),\n",
       "                                       ('nb', MultinomialNB())]),\n",
       "             param_grid={'cvec__max_df': [0.9, 0.95],\n",
       "                         'cvec__max_features': [None, 1000, 2000, 3000],\n",
       "                         'cvec__min_df': [0, 1],\n",
       "                         'cvec__ngram_range': [(1, 1), (1, 2), (2, 2)],\n",
       "                         'cvec__stop_words': [None, 'english']})"
      ]
     },
     "execution_count": 12,
     "metadata": {},
     "output_type": "execute_result"
    }
   ],
   "source": [
    "# Fit GridSearch to training data.\n",
    "gs_cvec.fit(X_train, y_train)"
   ]
  },
  {
   "cell_type": "code",
   "execution_count": 13,
   "id": "301c8a53-9096-4479-995d-ad5c9217836e",
   "metadata": {},
   "outputs": [
    {
     "data": {
      "text/plain": [
       "{'cvec__max_df': 0.9,\n",
       " 'cvec__max_features': None,\n",
       " 'cvec__min_df': 0,\n",
       " 'cvec__ngram_range': (1, 2),\n",
       " 'cvec__stop_words': None}"
      ]
     },
     "execution_count": 13,
     "metadata": {},
     "output_type": "execute_result"
    }
   ],
   "source": [
    "gs_cvec.best_params_"
   ]
  },
  {
   "cell_type": "code",
   "execution_count": 14,
   "id": "c777e4fc-3a24-44ff-9709-20a10b6c50a3",
   "metadata": {
    "tags": []
   },
   "outputs": [
    {
     "name": "stdout",
     "output_type": "stream",
     "text": [
      "1030 130 232 673\n"
     ]
    }
   ],
   "source": [
    "# Get Predictions\n",
    "predict_cvec = gs_cvec.predict(X_test)\n",
    "\n",
    "# Save into confusion matrix\n",
    "tn, fp, fn, tp = confusion_matrix(y_test, predict_cvec).ravel()\n",
    "print(tn, fp, fn, tp)"
   ]
  },
  {
   "cell_type": "code",
   "execution_count": 15,
   "id": "b137370f-cf72-4abf-a537-ee0519bbc3e9",
   "metadata": {},
   "outputs": [],
   "source": [
    "# create function to obtain model score\n",
    "def get_score(model,Xtrain,ytrain, Xtest, ytest, predict):\n",
    "    print('Model:', model.estimator )\n",
    "    print('Gridsearch best score:', model.best_score_)\n",
    "    print('Training set score:', model.score(Xtrain, ytrain))\n",
    "    print('Testing set score:', model.score(Xtest, ytest))\n",
    "    print('f1 score:', f1_score(ytest, predict))"
   ]
  },
  {
   "cell_type": "code",
   "execution_count": 16,
   "id": "a9a4185d-81a3-44e8-845e-ff176fd8b5ba",
   "metadata": {},
   "outputs": [
    {
     "name": "stdout",
     "output_type": "stream",
     "text": [
      "Model: Pipeline(steps=[('cvec', CountVectorizer()), ('nb', MultinomialNB())])\n",
      "Gridsearch best score: 0.8264729620661824\n",
      "Training set score: 0.9917675544794189\n",
      "Testing set score: 0.8246973365617434\n",
      "f1 score: 0.788056206088993\n"
     ]
    }
   ],
   "source": [
    "get_score(gs_cvec,X_train,y_train,X_test,y_test,predict_cvec)"
   ]
  },
  {
   "cell_type": "code",
   "execution_count": 17,
   "id": "2eceb399-70ce-47ce-9020-4ca05ba283bc",
   "metadata": {
    "tags": []
   },
   "outputs": [
    {
     "data": {
      "text/plain": [
       "<sklearn.metrics._plot.confusion_matrix.ConfusionMatrixDisplay at 0x2da9f6f1640>"
      ]
     },
     "execution_count": 17,
     "metadata": {},
     "output_type": "execute_result"
    },
    {
     "data": {
      "image/png": "[encoded data removed]",
      "text/plain": [
       "<Figure size 432x288 with 2 Axes>"
      ]
     },
     "metadata": {
      "needs_background": "light"
     },
     "output_type": "display_data"
    }
   ],
   "source": [
    "# View confusion matrix\n",
    "plot_confusion_matrix(gs_cvec, X_test, y_test, cmap='Blues', values_format='d')"
   ]
  },
  {
   "cell_type": "markdown",
   "id": "40b1cb91-c3b7-48ea-84df-da0ab372bd9e",
   "metadata": {},
   "source": [
    "### MultinomialNB model + TF-IDF Vectorizer"
   ]
  },
  {
   "cell_type": "code",
   "execution_count": 18,
   "id": "10040dc0-475c-48f2-a71d-98a0145bf745",
   "metadata": {},
   "outputs": [],
   "source": [
    "pipe_tvec = Pipeline([\n",
    "    ('tvec', TfidfVectorizer()),\n",
    "    ('nb', MultinomialNB())\n",
    "])"
   ]
  },
  {
   "cell_type": "code",
   "execution_count": 19,
   "id": "db942607-fa7f-474e-8aef-33cb2303a270",
   "metadata": {},
   "outputs": [],
   "source": [
    "# Search over hyperparameters\n",
    "pipe_tvec_params = {\n",
    "    'tvec__max_features': [None, 1000, 2000, 3000],\n",
    "    'tvec__stop_words': [None, 'english'],\n",
    "    'tvec__min_df': [0, 1],\n",
    "    'tvec__max_df': [.9, .95],\n",
    "    'tvec__ngram_range': [(1,1), (1,2), (2,2)]\n",
    "}"
   ]
  },
  {
   "cell_type": "code",
   "execution_count": 20,
   "id": "dd39d716-65da-4c47-bc6c-b5154ec3d40b",
   "metadata": {},
   "outputs": [],
   "source": [
    "# Instantiate GridSearchCV\n",
    "\n",
    "gs_tvec = GridSearchCV(pipe_tvec, \n",
    "                        param_grid = pipe_tvec_params,\n",
    "                        cv=5)"
   ]
  },
  {
   "cell_type": "code",
   "execution_count": 21,
   "id": "a8dc3dd3-bc15-41fb-ad67-402dfab2bbac",
   "metadata": {},
   "outputs": [
    {
     "data": {
      "text/plain": [
       "GridSearchCV(cv=5,\n",
       "             estimator=Pipeline(steps=[('tvec', TfidfVectorizer()),\n",
       "                                       ('nb', MultinomialNB())]),\n",
       "             param_grid={'tvec__max_df': [0.9, 0.95],\n",
       "                         'tvec__max_features': [None, 1000, 2000, 3000],\n",
       "                         'tvec__min_df': [0, 1],\n",
       "                         'tvec__ngram_range': [(1, 1), (1, 2), (2, 2)],\n",
       "                         'tvec__stop_words': [None, 'english']})"
      ]
     },
     "execution_count": 21,
     "metadata": {},
     "output_type": "execute_result"
    }
   ],
   "source": [
    "# Fit GridSearch to training data.\n",
    "gs_tvec.fit(X_train, y_train)"
   ]
  },
  {
   "cell_type": "code",
   "execution_count": 22,
   "id": "5f5ccceb-5035-46e0-8f93-f8fc4a4330f3",
   "metadata": {},
   "outputs": [
    {
     "data": {
      "text/plain": [
       "{'tvec__max_df': 0.9,\n",
       " 'tvec__max_features': None,\n",
       " 'tvec__min_df': 0,\n",
       " 'tvec__ngram_range': (1, 2),\n",
       " 'tvec__stop_words': 'english'}"
      ]
     },
     "execution_count": 22,
     "metadata": {},
     "output_type": "execute_result"
    }
   ],
   "source": [
    "gs_tvec.best_params_"
   ]
  },
  {
   "cell_type": "code",
   "execution_count": 23,
   "id": "1ee66c0a-c7f1-4c6a-b940-64488b2a2c3d",
   "metadata": {
    "tags": []
   },
   "outputs": [
    {
     "name": "stdout",
     "output_type": "stream",
     "text": [
      "1070 90 315 590\n"
     ]
    }
   ],
   "source": [
    "# Get Predictions\n",
    "predict_tvec = gs_tvec.predict(X_test)\n",
    "\n",
    "# Save into confusion matrix\n",
    "tn, fp, fn, tp = confusion_matrix(y_test, predict_tvec).ravel()\n",
    "print(tn, fp, fn, tp)"
   ]
  },
  {
   "cell_type": "code",
   "execution_count": 24,
   "id": "3ea76e14-c087-47d0-84ad-e00d84081b56",
   "metadata": {},
   "outputs": [
    {
     "name": "stdout",
     "output_type": "stream",
     "text": [
      "Model: Pipeline(steps=[('tvec', TfidfVectorizer()), ('nb', MultinomialNB())])\n",
      "Gridsearch best score: 0.8040355125100888\n",
      "Training set score: 0.9862792574656981\n",
      "Testing set score: 0.8038740920096852\n",
      "f1 score: 0.7444794952681388\n"
     ]
    }
   ],
   "source": [
    "get_score(gs_tvec,X_train,y_train,X_test,y_test,predict_tvec)"
   ]
  },
  {
   "cell_type": "code",
   "execution_count": 25,
   "id": "7525cd43-f1d1-457f-8a3e-a5cf8343855c",
   "metadata": {
    "tags": []
   },
   "outputs": [
    {
     "data": {
      "text/plain": [
       "<sklearn.metrics._plot.confusion_matrix.ConfusionMatrixDisplay at 0x2da9b2fd220>"
      ]
     },
     "execution_count": 25,
     "metadata": {},
     "output_type": "execute_result"
    },
    {
     "data": {
      "image/png": "[encoded data removed]",
      "text/plain": [
       "<Figure size 432x288 with 2 Axes>"
      ]
     },
     "metadata": {
      "needs_background": "light"
     },
     "output_type": "display_data"
    }
   ],
   "source": [
    "# View confusion matrix\n",
    "plot_confusion_matrix(gs_tvec, X_test, y_test, cmap='Blues', values_format='d')"
   ]
  },
  {
   "cell_type": "markdown",
   "id": "eef3d9d3-55f1-4220-b920-9c9273c610a5",
   "metadata": {},
   "source": [
    "**Comments:** Count vectorizer has higher train and test score compared to TF-IDF vectorizer. Countvectorizer seems to be the better vectorizer over TF-IDF vectorizer. The best parameters for countvectorizer is </br>{'cvec__max_df': 0.9,\n",
    " 'cvec__max_features': None,\n",
    " 'cvec__min_df': 0,\n",
    " 'cvec__ngram_range': (1, 2),\n",
    " 'cvec__stop_words': None}<br>\n",
    " Countvectorizer will be used for modelling and the tuned parameters will be used to build the models. "
   ]
  },
  {
   "cell_type": "markdown",
   "id": "066bbdb8-97b0-4d21-9bed-0a91b3bc294c",
   "metadata": {},
   "source": [
    "## Create model"
   ]
  },
  {
   "cell_type": "markdown",
   "id": "a39e865b-abac-4c8c-a0e9-5b61f37e62d8",
   "metadata": {},
   "source": [
    "RandomForest, MultinomialNB, Logistic regression, K-Nearest Neighbors, SVM will be used for predicting a specific classification based on a set of parameters."
   ]
  },
  {
   "cell_type": "markdown",
   "id": "372c5e53-e3b5-41d7-b637-f71246320a10",
   "metadata": {},
   "source": [
    "### Random Forests + count Vectorizer"
   ]
  },
  {
   "cell_type": "code",
   "execution_count": 26,
   "id": "869f647e-f675-4cb7-b564-253c9fbd3215",
   "metadata": {},
   "outputs": [],
   "source": [
    "rf = RandomForestClassifier()"
   ]
  },
  {
   "cell_type": "code",
   "execution_count": 27,
   "id": "57c152a0-4228-435b-82a6-b419508c1cab",
   "metadata": {},
   "outputs": [],
   "source": [
    "pipe_cvec_rf = Pipeline([\n",
    "    ('cvec', CountVectorizer(stop_words= None, ngram_range=(1, 2), min_df = 0, max_df=0.9)),\n",
    "    ('rf', RandomForestClassifier())\n",
    "])"
   ]
  },
  {
   "cell_type": "code",
   "execution_count": 28,
   "id": "9b13fe67-885d-4098-a380-a055ea782f21",
   "metadata": {},
   "outputs": [
    {
     "data": {
      "text/plain": [
       "{'memory': None,\n",
       " 'steps': [('cvec', CountVectorizer(max_df=0.9, min_df=0, ngram_range=(1, 2))),\n",
       "  ('rf', RandomForestClassifier())],\n",
       " 'verbose': False,\n",
       " 'cvec': CountVectorizer(max_df=0.9, min_df=0, ngram_range=(1, 2)),\n",
       " 'rf': RandomForestClassifier(),\n",
       " 'cvec__analyzer': 'word',\n",
       " 'cvec__binary': False,\n",
       " 'cvec__decode_error': 'strict',\n",
       " 'cvec__dtype': numpy.int64,\n",
       " 'cvec__encoding': 'utf-8',\n",
       " 'cvec__input': 'content',\n",
       " 'cvec__lowercase': True,\n",
       " 'cvec__max_df': 0.9,\n",
       " 'cvec__max_features': None,\n",
       " 'cvec__min_df': 0,\n",
       " 'cvec__ngram_range': (1, 2),\n",
       " 'cvec__preprocessor': None,\n",
       " 'cvec__stop_words': None,\n",
       " 'cvec__strip_accents': None,\n",
       " 'cvec__token_pattern': '(?u)\\\\b\\\\w\\\\w+\\\\b',\n",
       " 'cvec__tokenizer': None,\n",
       " 'cvec__vocabulary': None,\n",
       " 'rf__bootstrap': True,\n",
       " 'rf__ccp_alpha': 0.0,\n",
       " 'rf__class_weight': None,\n",
       " 'rf__criterion': 'gini',\n",
       " 'rf__max_depth': None,\n",
       " 'rf__max_features': 'auto',\n",
       " 'rf__max_leaf_nodes': None,\n",
       " 'rf__max_samples': None,\n",
       " 'rf__min_impurity_decrease': 0.0,\n",
       " 'rf__min_impurity_split': None,\n",
       " 'rf__min_samples_leaf': 1,\n",
       " 'rf__min_samples_split': 2,\n",
       " 'rf__min_weight_fraction_leaf': 0.0,\n",
       " 'rf__n_estimators': 100,\n",
       " 'rf__n_jobs': None,\n",
       " 'rf__oob_score': False,\n",
       " 'rf__random_state': None,\n",
       " 'rf__verbose': 0,\n",
       " 'rf__warm_start': False}"
      ]
     },
     "execution_count": 28,
     "metadata": {},
     "output_type": "execute_result"
    }
   ],
   "source": [
    "pipe_cvec_rf.get_params()"
   ]
  },
  {
   "cell_type": "code",
   "execution_count": 29,
   "id": "146f06fd-828d-4e16-81e1-ca3878887197",
   "metadata": {},
   "outputs": [],
   "source": [
    "pipe_cvec_rf_params = {\n",
    "    'rf__n_estimators': [100, 150, 200],\n",
    "    'rf__max_depth': [None, 1, 2, 3],\n",
    "}"
   ]
  },
  {
   "cell_type": "code",
   "execution_count": 30,
   "id": "9f67d825-bfe5-4f46-9412-e24b69d98ec2",
   "metadata": {},
   "outputs": [],
   "source": [
    "# Instantiate GridSearchCV\n",
    "\n",
    "rf_cvec = GridSearchCV(pipe_cvec_rf, \n",
    "                        param_grid = pipe_cvec_rf_params,\n",
    "                        cv=5)\n"
   ]
  },
  {
   "cell_type": "code",
   "execution_count": 31,
   "id": "e88d921f-57e2-4241-aa38-626f8df1294f",
   "metadata": {},
   "outputs": [
    {
     "data": {
      "text/plain": [
       "GridSearchCV(cv=5,\n",
       "             estimator=Pipeline(steps=[('cvec',\n",
       "                                        CountVectorizer(max_df=0.9, min_df=0,\n",
       "                                                        ngram_range=(1, 2))),\n",
       "                                       ('rf', RandomForestClassifier())]),\n",
       "             param_grid={'rf__max_depth': [None, 1, 2, 3],\n",
       "                         'rf__n_estimators': [100, 150, 200]})"
      ]
     },
     "execution_count": 31,
     "metadata": {},
     "output_type": "execute_result"
    }
   ],
   "source": [
    "# Fit GridSearch to training data.\n",
    "rf_cvec.fit(X_train, y_train)"
   ]
  },
  {
   "cell_type": "code",
   "execution_count": 32,
   "id": "1a7ef66f-7242-417d-9661-d963fc9450da",
   "metadata": {},
   "outputs": [
    {
     "data": {
      "text/plain": [
       "{'rf__max_depth': None, 'rf__n_estimators': 200}"
      ]
     },
     "execution_count": 32,
     "metadata": {},
     "output_type": "execute_result"
    }
   ],
   "source": [
    "rf_cvec.best_params_"
   ]
  },
  {
   "cell_type": "code",
   "execution_count": 33,
   "id": "d77fae99-7fc9-48a2-9d9e-c0eea7d5b147",
   "metadata": {
    "tags": []
   },
   "outputs": [
    {
     "name": "stdout",
     "output_type": "stream",
     "text": [
      "1103 57 416 489\n"
     ]
    }
   ],
   "source": [
    "# Get Predictions\n",
    "predict_rf = rf_cvec.predict(X_test)\n",
    "\n",
    "# Save into confusion matrix\n",
    "tn, fp, fn, tp = confusion_matrix(y_test, predict_rf).ravel()\n",
    "print(tn, fp, fn, tp)"
   ]
  },
  {
   "cell_type": "code",
   "execution_count": 34,
   "id": "c6f0107f-ce88-40c2-a605-9a8b46b7e28a",
   "metadata": {},
   "outputs": [
    {
     "name": "stdout",
     "output_type": "stream",
     "text": [
      "Model: Pipeline(steps=[('cvec',\n",
      "                 CountVectorizer(max_df=0.9, min_df=0, ngram_range=(1, 2))),\n",
      "                ('rf', RandomForestClassifier())])\n",
      "Gridsearch best score: 0.7691686844229217\n",
      "Training set score: 0.9996771589991928\n",
      "Testing set score: 0.7709443099273607\n",
      "f1 score: 0.6740179186767747\n"
     ]
    }
   ],
   "source": [
    "get_score(rf_cvec,X_train,y_train,X_test,y_test, predict_rf)"
   ]
  },
  {
   "cell_type": "code",
   "execution_count": 35,
   "id": "0e50afdf-6e32-4a9b-866d-a3855f933564",
   "metadata": {
    "tags": []
   },
   "outputs": [
    {
     "data": {
      "text/plain": [
       "<sklearn.metrics._plot.confusion_matrix.ConfusionMatrixDisplay at 0x2dac3dfeaf0>"
      ]
     },
     "execution_count": 35,
     "metadata": {},
     "output_type": "execute_result"
    },
    {
     "data": {
      "image/png": "[encoded data removed]",
      "text/plain": [
       "<Figure size 432x288 with 2 Axes>"
      ]
     },
     "metadata": {
      "needs_background": "light"
     },
     "output_type": "display_data"
    }
   ],
   "source": [
    "# View confusion matrix\n",
    "plot_confusion_matrix(rf_cvec, X_test, y_test, cmap='Blues', values_format='d')"
   ]
  },
  {
   "cell_type": "markdown",
   "id": "21f2088c-a6bc-465c-8576-4f158c68f2f0",
   "metadata": {},
   "source": [
    "### MultinomialNB + count Vectorizer"
   ]
  },
  {
   "cell_type": "code",
   "execution_count": 36,
   "id": "e04a4ad0-2eae-4621-af21-9de22fa7b439",
   "metadata": {},
   "outputs": [],
   "source": [
    "pipe_cvec_mnb = Pipeline([\n",
    "    ('cvec', CountVectorizer(stop_words= None, ngram_range=(1, 2), min_df = 0, max_df=0.9)),\n",
    "    ('mnb',  MultinomialNB())\n",
    "])"
   ]
  },
  {
   "cell_type": "code",
   "execution_count": 37,
   "id": "9e876e15-80c1-46df-80ba-0ee5bb1d6e8a",
   "metadata": {},
   "outputs": [
    {
     "data": {
      "text/plain": [
       "{'memory': None,\n",
       " 'steps': [('cvec', CountVectorizer(max_df=0.9, min_df=0, ngram_range=(1, 2))),\n",
       "  ('mnb', MultinomialNB())],\n",
       " 'verbose': False,\n",
       " 'cvec': CountVectorizer(max_df=0.9, min_df=0, ngram_range=(1, 2)),\n",
       " 'mnb': MultinomialNB(),\n",
       " 'cvec__analyzer': 'word',\n",
       " 'cvec__binary': False,\n",
       " 'cvec__decode_error': 'strict',\n",
       " 'cvec__dtype': numpy.int64,\n",
       " 'cvec__encoding': 'utf-8',\n",
       " 'cvec__input': 'content',\n",
       " 'cvec__lowercase': True,\n",
       " 'cvec__max_df': 0.9,\n",
       " 'cvec__max_features': None,\n",
       " 'cvec__min_df': 0,\n",
       " 'cvec__ngram_range': (1, 2),\n",
       " 'cvec__preprocessor': None,\n",
       " 'cvec__stop_words': None,\n",
       " 'cvec__strip_accents': None,\n",
       " 'cvec__token_pattern': '(?u)\\\\b\\\\w\\\\w+\\\\b',\n",
       " 'cvec__tokenizer': None,\n",
       " 'cvec__vocabulary': None,\n",
       " 'mnb__alpha': 1.0,\n",
       " 'mnb__class_prior': None,\n",
       " 'mnb__fit_prior': True}"
      ]
     },
     "execution_count": 37,
     "metadata": {},
     "output_type": "execute_result"
    }
   ],
   "source": [
    "pipe_cvec_mnb.get_params()"
   ]
  },
  {
   "cell_type": "code",
   "execution_count": 38,
   "id": "9c9f5219-775f-4ba3-9a54-3b4e831d50b5",
   "metadata": {},
   "outputs": [],
   "source": [
    "pipe_cvec_mnb_params = {\n",
    "    'mnb__alpha': np.linspace(0.5, 1.5, 6),\n",
    "    'mnb__fit_prior': [True, False]\n",
    "}"
   ]
  },
  {
   "cell_type": "code",
   "execution_count": 39,
   "id": "8481a55a-7951-465d-a654-dd7328c82092",
   "metadata": {},
   "outputs": [],
   "source": [
    "# Instantiate GridSearchCV\n",
    "\n",
    "mnb_cvec = GridSearchCV(pipe_cvec_mnb, \n",
    "                        param_grid = pipe_cvec_mnb_params,\n",
    "                        cv=5)\n"
   ]
  },
  {
   "cell_type": "code",
   "execution_count": 40,
   "id": "10831951-ce16-4138-8588-ed84aa58f91c",
   "metadata": {},
   "outputs": [
    {
     "data": {
      "text/plain": [
       "GridSearchCV(cv=5,\n",
       "             estimator=Pipeline(steps=[('cvec',\n",
       "                                        CountVectorizer(max_df=0.9, min_df=0,\n",
       "                                                        ngram_range=(1, 2))),\n",
       "                                       ('mnb', MultinomialNB())]),\n",
       "             param_grid={'mnb__alpha': array([0.5, 0.7, 0.9, 1.1, 1.3, 1.5]),\n",
       "                         'mnb__fit_prior': [True, False]})"
      ]
     },
     "execution_count": 40,
     "metadata": {},
     "output_type": "execute_result"
    }
   ],
   "source": [
    "# Fit GridSearch to training data.\n",
    "mnb_cvec.fit(X_train, y_train)"
   ]
  },
  {
   "cell_type": "code",
   "execution_count": 41,
   "id": "91fdc0dd-41a1-45d8-93ea-985b7eb15b6b",
   "metadata": {},
   "outputs": [
    {
     "data": {
      "text/plain": [
       "{'mnb__alpha': 1.1, 'mnb__fit_prior': False}"
      ]
     },
     "execution_count": 41,
     "metadata": {},
     "output_type": "execute_result"
    }
   ],
   "source": [
    "mnb_cvec.best_params_"
   ]
  },
  {
   "cell_type": "code",
   "execution_count": 42,
   "id": "568f1d02-ba31-404e-a348-e18192be3331",
   "metadata": {
    "tags": []
   },
   "outputs": [
    {
     "name": "stdout",
     "output_type": "stream",
     "text": [
      "1019 141 221 684\n"
     ]
    }
   ],
   "source": [
    "# Get Predictions\n",
    "predict_mnb = mnb_cvec.predict(X_test)\n",
    "\n",
    "# Save into confusion matrix\n",
    "tn, fp, fn, tp = confusion_matrix(y_test, predict_mnb).ravel()\n",
    "print(tn, fp, fn, tp)"
   ]
  },
  {
   "cell_type": "code",
   "execution_count": 43,
   "id": "6233e8c5-85a4-47b2-abf7-cd04818dc0fa",
   "metadata": {},
   "outputs": [
    {
     "name": "stdout",
     "output_type": "stream",
     "text": [
      "Model: Pipeline(steps=[('cvec',\n",
      "                 CountVectorizer(max_df=0.9, min_df=0, ngram_range=(1, 2))),\n",
      "                ('mnb', MultinomialNB())])\n",
      "Gridsearch best score: 0.8272800645682002\n",
      "Training set score: 0.9912832929782083\n",
      "Testing set score: 0.8246973365617434\n",
      "f1 score: 0.7907514450867053\n"
     ]
    }
   ],
   "source": [
    "get_score(mnb_cvec,X_train,y_train,X_test,y_test,predict_mnb)"
   ]
  },
  {
   "cell_type": "code",
   "execution_count": 44,
   "id": "98d9b312-8929-4888-857f-eaa08fae3627",
   "metadata": {
    "tags": []
   },
   "outputs": [
    {
     "data": {
      "text/plain": [
       "<sklearn.metrics._plot.confusion_matrix.ConfusionMatrixDisplay at 0x2dac5754340>"
      ]
     },
     "execution_count": 44,
     "metadata": {},
     "output_type": "execute_result"
    },
    {
     "data": {
      "image/png": "[encoded data removed]",
      "text/plain": [
       "<Figure size 432x288 with 2 Axes>"
      ]
     },
     "metadata": {
      "needs_background": "light"
     },
     "output_type": "display_data"
    }
   ],
   "source": [
    "# View confusion matrix\n",
    "plot_confusion_matrix(mnb_cvec, X_test, y_test, cmap='Blues', values_format='d')"
   ]
  },
  {
   "cell_type": "markdown",
   "id": "40427aac-39ff-40f3-bbd5-3def7120849e",
   "metadata": {},
   "source": [
    "### Logistic Regression + TF-IDF Vectorizer"
   ]
  },
  {
   "cell_type": "code",
   "execution_count": 45,
   "id": "df068444-ed76-4be1-9130-182efdd79a15",
   "metadata": {},
   "outputs": [],
   "source": [
    "pipe_lr = Pipeline([\n",
    "    ('cvec', CountVectorizer(stop_words= None, ngram_range=(1, 2), min_df = 0, max_df=0.9)),\n",
    "    ('lr', LogisticRegression())\n",
    "])"
   ]
  },
  {
   "cell_type": "code",
   "execution_count": 46,
   "id": "7bb741ef-d8c5-490c-be3f-00ae11a15e40",
   "metadata": {},
   "outputs": [
    {
     "data": {
      "text/plain": [
       "{'memory': None,\n",
       " 'steps': [('cvec', CountVectorizer(max_df=0.9, min_df=0, ngram_range=(1, 2))),\n",
       "  ('lr', LogisticRegression())],\n",
       " 'verbose': False,\n",
       " 'cvec': CountVectorizer(max_df=0.9, min_df=0, ngram_range=(1, 2)),\n",
       " 'lr': LogisticRegression(),\n",
       " 'cvec__analyzer': 'word',\n",
       " 'cvec__binary': False,\n",
       " 'cvec__decode_error': 'strict',\n",
       " 'cvec__dtype': numpy.int64,\n",
       " 'cvec__encoding': 'utf-8',\n",
       " 'cvec__input': 'content',\n",
       " 'cvec__lowercase': True,\n",
       " 'cvec__max_df': 0.9,\n",
       " 'cvec__max_features': None,\n",
       " 'cvec__min_df': 0,\n",
       " 'cvec__ngram_range': (1, 2),\n",
       " 'cvec__preprocessor': None,\n",
       " 'cvec__stop_words': None,\n",
       " 'cvec__strip_accents': None,\n",
       " 'cvec__token_pattern': '(?u)\\\\b\\\\w\\\\w+\\\\b',\n",
       " 'cvec__tokenizer': None,\n",
       " 'cvec__vocabulary': None,\n",
       " 'lr__C': 1.0,\n",
       " 'lr__class_weight': None,\n",
       " 'lr__dual': False,\n",
       " 'lr__fit_intercept': True,\n",
       " 'lr__intercept_scaling': 1,\n",
       " 'lr__l1_ratio': None,\n",
       " 'lr__max_iter': 100,\n",
       " 'lr__multi_class': 'auto',\n",
       " 'lr__n_jobs': None,\n",
       " 'lr__penalty': 'l2',\n",
       " 'lr__random_state': None,\n",
       " 'lr__solver': 'lbfgs',\n",
       " 'lr__tol': 0.0001,\n",
       " 'lr__verbose': 0,\n",
       " 'lr__warm_start': False}"
      ]
     },
     "execution_count": 46,
     "metadata": {},
     "output_type": "execute_result"
    }
   ],
   "source": [
    "pipe_lr.get_params()"
   ]
  },
  {
   "cell_type": "code",
   "execution_count": 47,
   "id": "1619ac03-5149-4d11-a5f8-c96da6eeb451",
   "metadata": {},
   "outputs": [],
   "source": [
    "# Search over hyperparameters\n",
    "pipe_lr_params = {\n",
    "    'lr__C': np.linspace(0.5, 2, 5),\n",
    "    'lr__fit_intercept': [True,False],\n",
    "}"
   ]
  },
  {
   "cell_type": "code",
   "execution_count": 48,
   "id": "9f29f51b-da32-4eee-8a30-afdfcb3fe58e",
   "metadata": {},
   "outputs": [],
   "source": [
    "# Instantiate GridSearchCV\n",
    "\n",
    "lr_cvec = GridSearchCV(pipe_lr, \n",
    "                        param_grid = pipe_lr_params,\n",
    "                        cv=5)"
   ]
  },
  {
   "cell_type": "code",
   "execution_count": 49,
   "id": "20708634-f46c-4204-b19d-0c732e4fdba2",
   "metadata": {},
   "outputs": [
    {
     "data": {
      "text/plain": [
       "GridSearchCV(cv=5,\n",
       "             estimator=Pipeline(steps=[('cvec',\n",
       "                                        CountVectorizer(max_df=0.9, min_df=0,\n",
       "                                                        ngram_range=(1, 2))),\n",
       "                                       ('lr', LogisticRegression())]),\n",
       "             param_grid={'lr__C': array([0.5  , 0.875, 1.25 , 1.625, 2.   ]),\n",
       "                         'lr__fit_intercept': [True, False]})"
      ]
     },
     "execution_count": 49,
     "metadata": {},
     "output_type": "execute_result"
    }
   ],
   "source": [
    "# Fit GridSearch to training data.\n",
    "lr_cvec.fit(X_train, y_train)"
   ]
  },
  {
   "cell_type": "code",
   "execution_count": 50,
   "id": "b9af7bd4-8f97-40e5-b80d-f7bdc4c593e2",
   "metadata": {},
   "outputs": [
    {
     "data": {
      "text/plain": [
       "{'lr__C': 2.0, 'lr__fit_intercept': False}"
      ]
     },
     "execution_count": 50,
     "metadata": {},
     "output_type": "execute_result"
    }
   ],
   "source": [
    "lr_cvec.best_params_"
   ]
  },
  {
   "cell_type": "code",
   "execution_count": 51,
   "id": "2ca0927c-8e75-48e1-8d05-3d4229319812",
   "metadata": {
    "tags": []
   },
   "outputs": [
    {
     "name": "stdout",
     "output_type": "stream",
     "text": [
      "994 166 180 725\n"
     ]
    }
   ],
   "source": [
    "# Get Predictions\n",
    "predict_lr = lr_cvec.predict(X_test)\n",
    "\n",
    "# Save into confusion matrix\n",
    "tn, fp, fn, tp = confusion_matrix(y_test, predict_lr).ravel()\n",
    "print(tn, fp, fn, tp)"
   ]
  },
  {
   "cell_type": "code",
   "execution_count": 52,
   "id": "86d5f600-ea75-43d4-ab7a-d1aa471e74a4",
   "metadata": {},
   "outputs": [
    {
     "name": "stdout",
     "output_type": "stream",
     "text": [
      "Model: Pipeline(steps=[('cvec',\n",
      "                 CountVectorizer(max_df=0.9, min_df=0, ngram_range=(1, 2))),\n",
      "                ('lr', LogisticRegression())])\n",
      "Gridsearch best score: 0.8163034705407586\n",
      "Training set score: 0.9996771589991928\n",
      "Testing set score: 0.8324455205811138\n",
      "f1 score: 0.8073496659242763\n"
     ]
    }
   ],
   "source": [
    "get_score(lr_cvec,X_train,y_train,X_test,y_test,predict_lr)"
   ]
  },
  {
   "cell_type": "code",
   "execution_count": 53,
   "id": "e987a38e-4548-41c7-ad1f-ecf5c5fa40d4",
   "metadata": {
    "tags": []
   },
   "outputs": [
    {
     "data": {
      "text/plain": [
       "<sklearn.metrics._plot.confusion_matrix.ConfusionMatrixDisplay at 0x2dac57bf7c0>"
      ]
     },
     "execution_count": 53,
     "metadata": {},
     "output_type": "execute_result"
    },
    {
     "data": {
      "image/png": "[encoded data removed]",
      "text/plain": [
       "<Figure size 432x288 with 2 Axes>"
      ]
     },
     "metadata": {
      "needs_background": "light"
     },
     "output_type": "display_data"
    }
   ],
   "source": [
    "# View confusion matrix\n",
    "plot_confusion_matrix(lr_cvec, X_test, y_test, cmap='Blues', values_format='d')"
   ]
  },
  {
   "cell_type": "markdown",
   "id": "53b553e0-945c-4e7c-8b0f-051a17898145",
   "metadata": {},
   "source": [
    "### KNN + count Vectorizer"
   ]
  },
  {
   "cell_type": "code",
   "execution_count": 54,
   "id": "475811d9-2ed9-4ece-908a-08f8430b64a5",
   "metadata": {},
   "outputs": [],
   "source": [
    "pipe_cvec_knn = Pipeline([\n",
    "    ('cvec', CountVectorizer(stop_words= None, ngram_range=(1, 2), min_df = 0, max_df=0.9)),\n",
    "    ('knn', KNeighborsClassifier())\n",
    "])"
   ]
  },
  {
   "cell_type": "code",
   "execution_count": 55,
   "id": "2c14bb18-0f3e-4e14-95b1-18f1916d36bd",
   "metadata": {},
   "outputs": [
    {
     "data": {
      "text/plain": [
       "{'memory': None,\n",
       " 'steps': [('cvec', CountVectorizer(max_df=0.9, min_df=0, ngram_range=(1, 2))),\n",
       "  ('knn', KNeighborsClassifier())],\n",
       " 'verbose': False,\n",
       " 'cvec': CountVectorizer(max_df=0.9, min_df=0, ngram_range=(1, 2)),\n",
       " 'knn': KNeighborsClassifier(),\n",
       " 'cvec__analyzer': 'word',\n",
       " 'cvec__binary': False,\n",
       " 'cvec__decode_error': 'strict',\n",
       " 'cvec__dtype': numpy.int64,\n",
       " 'cvec__encoding': 'utf-8',\n",
       " 'cvec__input': 'content',\n",
       " 'cvec__lowercase': True,\n",
       " 'cvec__max_df': 0.9,\n",
       " 'cvec__max_features': None,\n",
       " 'cvec__min_df': 0,\n",
       " 'cvec__ngram_range': (1, 2),\n",
       " 'cvec__preprocessor': None,\n",
       " 'cvec__stop_words': None,\n",
       " 'cvec__strip_accents': None,\n",
       " 'cvec__token_pattern': '(?u)\\\\b\\\\w\\\\w+\\\\b',\n",
       " 'cvec__tokenizer': None,\n",
       " 'cvec__vocabulary': None,\n",
       " 'knn__algorithm': 'auto',\n",
       " 'knn__leaf_size': 30,\n",
       " 'knn__metric': 'minkowski',\n",
       " 'knn__metric_params': None,\n",
       " 'knn__n_jobs': None,\n",
       " 'knn__n_neighbors': 5,\n",
       " 'knn__p': 2,\n",
       " 'knn__weights': 'uniform'}"
      ]
     },
     "execution_count": 55,
     "metadata": {},
     "output_type": "execute_result"
    }
   ],
   "source": [
    "pipe_cvec_knn.get_params()"
   ]
  },
  {
   "cell_type": "code",
   "execution_count": 56,
   "id": "77f9283c-295e-486f-add6-4a487beb8e8c",
   "metadata": {},
   "outputs": [],
   "source": [
    "# Search over hyperparameters\n",
    "pipe_cvec_knn_params = {\n",
    "     #'knn__leaf_size': list(range(1,30,5)),\n",
    "   'knn__n_neighbors': list(range(1,20,5)),\n",
    "    'knn__p': [1,2]\n",
    "}"
   ]
  },
  {
   "cell_type": "code",
   "execution_count": 57,
   "id": "dbaa1866-ae8c-4a17-978e-7a86070af2a4",
   "metadata": {},
   "outputs": [],
   "source": [
    "# Instantiate GridSearchCV\n",
    "\n",
    "knn_cvec = GridSearchCV(pipe_cvec_knn, \n",
    "                        param_grid = pipe_cvec_knn_params,\n",
    "                        cv=5)"
   ]
  },
  {
   "cell_type": "code",
   "execution_count": 58,
   "id": "8d621eff-205c-47b9-ab6e-d3a515578fff",
   "metadata": {},
   "outputs": [
    {
     "data": {
      "text/plain": [
       "GridSearchCV(cv=5,\n",
       "             estimator=Pipeline(steps=[('cvec',\n",
       "                                        CountVectorizer(max_df=0.9, min_df=0,\n",
       "                                                        ngram_range=(1, 2))),\n",
       "                                       ('knn', KNeighborsClassifier())]),\n",
       "             param_grid={'knn__n_neighbors': [1, 6, 11, 16], 'knn__p': [1, 2]})"
      ]
     },
     "execution_count": 58,
     "metadata": {},
     "output_type": "execute_result"
    }
   ],
   "source": [
    "# Fit GridSearch to training data.\n",
    "knn_cvec.fit(X_train, y_train)"
   ]
  },
  {
   "cell_type": "code",
   "execution_count": 59,
   "id": "84a12c31-ace1-46f5-9637-990fd7ec1531",
   "metadata": {},
   "outputs": [
    {
     "data": {
      "text/plain": [
       "{'knn__n_neighbors': 1, 'knn__p': 2}"
      ]
     },
     "execution_count": 59,
     "metadata": {},
     "output_type": "execute_result"
    }
   ],
   "source": [
    "knn_cvec.best_params_"
   ]
  },
  {
   "cell_type": "code",
   "execution_count": 60,
   "id": "7bef224a-defc-4020-89c3-d4ace5cb24cd",
   "metadata": {
    "tags": []
   },
   "outputs": [
    {
     "name": "stdout",
     "output_type": "stream",
     "text": [
      "1135 25 636 269\n"
     ]
    }
   ],
   "source": [
    "# Get Predictions\n",
    "predict_knn = knn_cvec.predict(X_test)\n",
    "\n",
    "# Save into confusion matrix\n",
    "tn, fp, fn, tp = confusion_matrix(y_test, predict_knn).ravel()\n",
    "print(tn, fp, fn, tp)"
   ]
  },
  {
   "cell_type": "code",
   "execution_count": 61,
   "id": "26eb987f-544a-4c51-a097-fb8abec72c8d",
   "metadata": {},
   "outputs": [
    {
     "name": "stdout",
     "output_type": "stream",
     "text": [
      "Model: Pipeline(steps=[('cvec',\n",
      "                 CountVectorizer(max_df=0.9, min_df=0, ngram_range=(1, 2))),\n",
      "                ('knn', KNeighborsClassifier())])\n",
      "Gridsearch best score: 0.6603712671509281\n",
      "Training set score: 0.9996771589991928\n",
      "Testing set score: 0.6799031476997579\n",
      "f1 score: 0.44870725604670564\n"
     ]
    }
   ],
   "source": [
    "get_score(knn_cvec,X_train,y_train,X_test,y_test,predict_knn)"
   ]
  },
  {
   "cell_type": "code",
   "execution_count": 62,
   "id": "ddf223d0-6d6c-4c97-85c1-9da4cb2d7727",
   "metadata": {
    "tags": []
   },
   "outputs": [
    {
     "data": {
      "text/plain": [
       "<sklearn.metrics._plot.confusion_matrix.ConfusionMatrixDisplay at 0x2dacb2f8a00>"
      ]
     },
     "execution_count": 62,
     "metadata": {},
     "output_type": "execute_result"
    },
    {
     "data": {
      "image/png": "[encoded data removed]",
      "text/plain": [
       "<Figure size 432x288 with 2 Axes>"
      ]
     },
     "metadata": {
      "needs_background": "light"
     },
     "output_type": "display_data"
    }
   ],
   "source": [
    "# View confusion matrix\n",
    "plot_confusion_matrix(knn_cvec, X_test, y_test, cmap='Blues', values_format='d')"
   ]
  },
  {
   "cell_type": "markdown",
   "id": "604dddfa-d7e1-47de-89a5-d79a635a7c1f",
   "metadata": {},
   "source": [
    "### SVM + CountVectorizer"
   ]
  },
  {
   "cell_type": "code",
   "execution_count": 63,
   "id": "3033cabb-8bdc-4280-9515-7017229de7f9",
   "metadata": {},
   "outputs": [],
   "source": [
    "pipe_svm = Pipeline([\n",
    "    ('cvec', CountVectorizer(stop_words= None, ngram_range=(1, 2), min_df = 0, max_df=0.9)),\n",
    "    ('svm', SVC())\n",
    "])"
   ]
  },
  {
   "cell_type": "code",
   "execution_count": 64,
   "id": "f2b3fb75-c1fd-48bb-af92-6f9bd3452664",
   "metadata": {},
   "outputs": [
    {
     "data": {
      "text/plain": [
       "{'memory': None,\n",
       " 'steps': [('cvec', CountVectorizer(max_df=0.9, min_df=0, ngram_range=(1, 2))),\n",
       "  ('svm', SVC())],\n",
       " 'verbose': False,\n",
       " 'cvec': CountVectorizer(max_df=0.9, min_df=0, ngram_range=(1, 2)),\n",
       " 'svm': SVC(),\n",
       " 'cvec__analyzer': 'word',\n",
       " 'cvec__binary': False,\n",
       " 'cvec__decode_error': 'strict',\n",
       " 'cvec__dtype': numpy.int64,\n",
       " 'cvec__encoding': 'utf-8',\n",
       " 'cvec__input': 'content',\n",
       " 'cvec__lowercase': True,\n",
       " 'cvec__max_df': 0.9,\n",
       " 'cvec__max_features': None,\n",
       " 'cvec__min_df': 0,\n",
       " 'cvec__ngram_range': (1, 2),\n",
       " 'cvec__preprocessor': None,\n",
       " 'cvec__stop_words': None,\n",
       " 'cvec__strip_accents': None,\n",
       " 'cvec__token_pattern': '(?u)\\\\b\\\\w\\\\w+\\\\b',\n",
       " 'cvec__tokenizer': None,\n",
       " 'cvec__vocabulary': None,\n",
       " 'svm__C': 1.0,\n",
       " 'svm__break_ties': False,\n",
       " 'svm__cache_size': 200,\n",
       " 'svm__class_weight': None,\n",
       " 'svm__coef0': 0.0,\n",
       " 'svm__decision_function_shape': 'ovr',\n",
       " 'svm__degree': 3,\n",
       " 'svm__gamma': 'scale',\n",
       " 'svm__kernel': 'rbf',\n",
       " 'svm__max_iter': -1,\n",
       " 'svm__probability': False,\n",
       " 'svm__random_state': None,\n",
       " 'svm__shrinking': True,\n",
       " 'svm__tol': 0.001,\n",
       " 'svm__verbose': False}"
      ]
     },
     "execution_count": 64,
     "metadata": {},
     "output_type": "execute_result"
    }
   ],
   "source": [
    "pipe_svm.get_params()"
   ]
  },
  {
   "cell_type": "code",
   "execution_count": 65,
   "id": "088ff18e-dbf8-4816-8915-4107f946bb4d",
   "metadata": {},
   "outputs": [],
   "source": [
    "# Search over hyperparameters\n",
    "pipe_svm_params = {\n",
    "    'svm__C': [0.5, 1, 1.5],\n",
    "    'svm__kernel': ['linear', 'poly', 'rbf']\n",
    "}"
   ]
  },
  {
   "cell_type": "code",
   "execution_count": 66,
   "id": "499b76e7-6f98-4cf0-85bb-0574aba4d831",
   "metadata": {},
   "outputs": [],
   "source": [
    "# Instantiate GridSearchCV\n",
    "\n",
    "svm_cvec = GridSearchCV(pipe_svm, \n",
    "                        param_grid = pipe_svm_params,\n",
    "                        cv=5)"
   ]
  },
  {
   "cell_type": "code",
   "execution_count": 67,
   "id": "b23b9191-79ac-498c-a90e-adb10ff8e897",
   "metadata": {},
   "outputs": [
    {
     "data": {
      "text/plain": [
       "GridSearchCV(cv=5,\n",
       "             estimator=Pipeline(steps=[('cvec',\n",
       "                                        CountVectorizer(max_df=0.9, min_df=0,\n",
       "                                                        ngram_range=(1, 2))),\n",
       "                                       ('svm', SVC())]),\n",
       "             param_grid={'svm__C': [0.5, 1, 1.5],\n",
       "                         'svm__kernel': ['linear', 'poly', 'rbf']})"
      ]
     },
     "execution_count": 67,
     "metadata": {},
     "output_type": "execute_result"
    }
   ],
   "source": [
    "# Fit GridSearch to training data.\n",
    "svm_cvec.fit(X_train, y_train)"
   ]
  },
  {
   "cell_type": "code",
   "execution_count": 68,
   "id": "82d47ee8-9ee3-4617-be8e-ac901bcb7ad0",
   "metadata": {},
   "outputs": [
    {
     "data": {
      "text/plain": [
       "{'svm__C': 0.5, 'svm__kernel': 'linear'}"
      ]
     },
     "execution_count": 68,
     "metadata": {},
     "output_type": "execute_result"
    }
   ],
   "source": [
    "svm_cvec.best_params_"
   ]
  },
  {
   "cell_type": "code",
   "execution_count": 69,
   "id": "02d6dcc3-11e0-4fd6-b45d-218af2abcce5",
   "metadata": {
    "tags": []
   },
   "outputs": [
    {
     "name": "stdout",
     "output_type": "stream",
     "text": [
      "1000 160 182 723\n"
     ]
    }
   ],
   "source": [
    "# Get Predictions\n",
    "predict_svm = svm_cvec.predict(X_test)\n",
    "\n",
    "# Save into confusion matrix\n",
    "tn, fp, fn, tp = confusion_matrix(y_test, predict_svm).ravel()\n",
    "print(tn, fp, fn, tp)"
   ]
  },
  {
   "cell_type": "code",
   "execution_count": 70,
   "id": "028c4de0-b01b-45eb-8617-4f9d1d1cc392",
   "metadata": {},
   "outputs": [
    {
     "name": "stdout",
     "output_type": "stream",
     "text": [
      "Model: Pipeline(steps=[('cvec',\n",
      "                 CountVectorizer(max_df=0.9, min_df=0, ngram_range=(1, 2))),\n",
      "                ('svm', SVC())])\n",
      "Gridsearch best score: 0.8116222760290558\n",
      "Training set score: 0.9996771589991928\n",
      "Testing set score: 0.8343825665859564\n",
      "f1 score: 0.8087248322147651\n"
     ]
    }
   ],
   "source": [
    "get_score(svm_cvec,X_train,y_train,X_test,y_test,predict_svm)"
   ]
  },
  {
   "cell_type": "code",
   "execution_count": 71,
   "id": "6c8480c0-9d72-4459-99a1-47e86fba52b7",
   "metadata": {
    "tags": []
   },
   "outputs": [
    {
     "data": {
      "text/plain": [
       "<sklearn.metrics._plot.confusion_matrix.ConfusionMatrixDisplay at 0x2dacbb51970>"
      ]
     },
     "execution_count": 71,
     "metadata": {},
     "output_type": "execute_result"
    },
    {
     "data": {
      "image/png": "[encoded data removed]",
      "text/plain": [
       "<Figure size 432x288 with 2 Axes>"
      ]
     },
     "metadata": {
      "needs_background": "light"
     },
     "output_type": "display_data"
    }
   ],
   "source": [
    "# View confusion matrix\n",
    "plot_confusion_matrix(svm_cvec, X_test, y_test, cmap='Blues', values_format='d')"
   ]
  },
  {
   "cell_type": "markdown",
   "id": "e505d1ec-b16e-4f59-a459-e1e37a06362f",
   "metadata": {},
   "source": [
    "### Model evaluations"
   ]
  },
  {
   "cell_type": "markdown",
   "id": "0f437d80-1a84-4c47-9d95-56542d465063",
   "metadata": {},
   "source": [
    "### Review and compare models score"
   ]
  },
  {
   "cell_type": "code",
   "execution_count": 72,
   "id": "9b14871a-216c-4133-b6ae-3b8b27c7c710",
   "metadata": {},
   "outputs": [],
   "source": [
    "# create a dataframe to compare the score between models\n",
    "\n",
    "model_comparison = pd.DataFrame(columns=['model','train_score','test_score','f1_score'])"
   ]
  },
  {
   "cell_type": "code",
   "execution_count": 73,
   "id": "92b8e50c-3d27-432d-8e1b-1472f1f0ea18",
   "metadata": {},
   "outputs": [
    {
     "data": {
      "text/html": [
       "<div>\n",
       "<style scoped>\n",
       "    .dataframe tbody tr th:only-of-type {\n",
       "        vertical-align: middle;\n",
       "    }\n",
       "\n",
       "    .dataframe tbody tr th {\n",
       "        vertical-align: top;\n",
       "    }\n",
       "\n",
       "    .dataframe thead th {\n",
       "        text-align: right;\n",
       "    }\n",
       "</style>\n",
       "<table border=\"1\" class=\"dataframe\">\n",
       "  <thead>\n",
       "    <tr style=\"text-align: right;\">\n",
       "      <th></th>\n",
       "      <th>model</th>\n",
       "      <th>train_score</th>\n",
       "      <th>test_score</th>\n",
       "      <th>f1_score</th>\n",
       "    </tr>\n",
       "  </thead>\n",
       "  <tbody>\n",
       "    <tr>\n",
       "      <th>0</th>\n",
       "      <td>('mnb', MultinomialNB())</td>\n",
       "      <td>0.9913</td>\n",
       "      <td>0.8247</td>\n",
       "      <td>0.7908</td>\n",
       "    </tr>\n",
       "    <tr>\n",
       "      <th>1</th>\n",
       "      <td>('rf', RandomForestClassifier())</td>\n",
       "      <td>0.9997</td>\n",
       "      <td>0.7709</td>\n",
       "      <td>0.6740</td>\n",
       "    </tr>\n",
       "    <tr>\n",
       "      <th>2</th>\n",
       "      <td>('lr', LogisticRegression())</td>\n",
       "      <td>0.9997</td>\n",
       "      <td>0.8324</td>\n",
       "      <td>0.8073</td>\n",
       "    </tr>\n",
       "    <tr>\n",
       "      <th>3</th>\n",
       "      <td>('knn', KNeighborsClassifier())</td>\n",
       "      <td>0.9997</td>\n",
       "      <td>0.6799</td>\n",
       "      <td>0.4487</td>\n",
       "    </tr>\n",
       "    <tr>\n",
       "      <th>4</th>\n",
       "      <td>('svm', SVC())</td>\n",
       "      <td>0.9997</td>\n",
       "      <td>0.8344</td>\n",
       "      <td>0.8087</td>\n",
       "    </tr>\n",
       "  </tbody>\n",
       "</table>\n",
       "</div>"
      ],
      "text/plain": [
       "                              model  train_score  test_score  f1_score\n",
       "0          ('mnb', MultinomialNB())       0.9913      0.8247    0.7908\n",
       "1  ('rf', RandomForestClassifier())       0.9997      0.7709    0.6740\n",
       "2      ('lr', LogisticRegression())       0.9997      0.8324    0.8073\n",
       "3   ('knn', KNeighborsClassifier())       0.9997      0.6799    0.4487\n",
       "4                    ('svm', SVC())       0.9997      0.8344    0.8087"
      ]
     },
     "execution_count": 73,
     "metadata": {},
     "output_type": "execute_result"
    }
   ],
   "source": [
    "# list of models\n",
    "models = [mnb_cvec,\n",
    "          rf_cvec,\n",
    "          lr_cvec,\n",
    "          knn_cvec,\n",
    "          svm_cvec]\n",
    "\n",
    "# list of prediction based on different models\n",
    "y_preds = [predict_mnb, predict_rf, predict_lr, predict_knn, predict_svm]\n",
    "\n",
    "\n",
    "model_comparison[\"model\"] = [f\"{model.estimator.steps[1]}\" for model in models]\n",
    "\n",
    "model_comparison[\"train_score\"] = [round(model.score(X_train, y_train), 4) for model in models]\n",
    "\n",
    "model_comparison[\"test_score\"] = [round(model.score(X_test, y_test), 4) for model in models]\n",
    "\n",
    "model_comparison[\"f1_score\"] = [round(f1_score(y_test, pred), 4) for pred in y_preds]\n",
    "\n",
    "\n",
    "model_comparison"
   ]
  },
  {
   "cell_type": "markdown",
   "id": "dde077fe-9ada-4109-b03b-38f54d402d41",
   "metadata": {},
   "source": [
    "**Comments:** We use F1 score as metrics as it is a combination of precison and recall metrics into a single metric. From the table, we can see that most of the models are able to achieve high score on training sets with the helps of hyperparameters tuning. SVM able to achieve highest overall test_score at 0.8344. However the f1_score for SVM model is only 0.7881. The model with the highest f1_score is Multinomial Naive Bayes mode. Randomforest and KNN model has lover test_score at 0.7685 and 0.6799 respectively. This shows that the model was overfitted. "
   ]
  },
  {
   "cell_type": "markdown",
   "id": "6bfc8ff7-4921-4dbf-9f4d-01e458fe1f8f",
   "metadata": {},
   "source": [
    "#### Logistic Regeression Coefficients"
   ]
  },
  {
   "cell_type": "code",
   "execution_count": 74,
   "id": "21743ebe-2684-4967-9efc-9777260ced95",
   "metadata": {},
   "outputs": [],
   "source": [
    "features = lr_cvec.best_estimator_[0].get_feature_names()"
   ]
  },
  {
   "cell_type": "code",
   "execution_count": 75,
   "id": "03080adf-790b-4576-acf5-6068068c63f6",
   "metadata": {},
   "outputs": [
    {
     "data": {
      "text/html": [
       "<div>\n",
       "<style scoped>\n",
       "    .dataframe tbody tr th:only-of-type {\n",
       "        vertical-align: middle;\n",
       "    }\n",
       "\n",
       "    .dataframe tbody tr th {\n",
       "        vertical-align: top;\n",
       "    }\n",
       "\n",
       "    .dataframe thead th {\n",
       "        text-align: right;\n",
       "    }\n",
       "</style>\n",
       "<table border=\"1\" class=\"dataframe\">\n",
       "  <thead>\n",
       "    <tr style=\"text-align: right;\">\n",
       "      <th></th>\n",
       "      <th>coef</th>\n",
       "    </tr>\n",
       "  </thead>\n",
       "  <tbody>\n",
       "    <tr>\n",
       "      <th>content of</th>\n",
       "      <td>2.340086</td>\n",
       "    </tr>\n",
       "    <tr>\n",
       "      <th>covid</th>\n",
       "      <td>1.845298</td>\n",
       "    </tr>\n",
       "    <tr>\n",
       "      <th>content</th>\n",
       "      <td>1.785421</td>\n",
       "    </tr>\n",
       "    <tr>\n",
       "      <th>christmas</th>\n",
       "      <td>1.684689</td>\n",
       "    </tr>\n",
       "    <tr>\n",
       "      <th>amp</th>\n",
       "      <td>1.681607</td>\n",
       "    </tr>\n",
       "    <tr>\n",
       "      <th>stolen</th>\n",
       "      <td>1.445817</td>\n",
       "    </tr>\n",
       "    <tr>\n",
       "      <th>nft</th>\n",
       "      <td>1.381573</td>\n",
       "    </tr>\n",
       "    <tr>\n",
       "      <th>omicron</th>\n",
       "      <td>1.327589</td>\n",
       "    </tr>\n",
       "    <tr>\n",
       "      <th>say he</th>\n",
       "      <td>1.310572</td>\n",
       "    </tr>\n",
       "    <tr>\n",
       "      <th>camel</th>\n",
       "      <td>1.302957</td>\n",
       "    </tr>\n",
       "    <tr>\n",
       "      <th>2022</th>\n",
       "      <td>1.290638</td>\n",
       "    </tr>\n",
       "    <tr>\n",
       "      <th>is</th>\n",
       "      <td>1.290110</td>\n",
       "    </tr>\n",
       "    <tr>\n",
       "      <th>arrested</th>\n",
       "      <td>1.288101</td>\n",
       "    </tr>\n",
       "    <tr>\n",
       "      <th>india</th>\n",
       "      <td>1.284224</td>\n",
       "    </tr>\n",
       "    <tr>\n",
       "      <th>police</th>\n",
       "      <td>1.251648</td>\n",
       "    </tr>\n",
       "    <tr>\n",
       "      <th>melania trump</th>\n",
       "      <td>1.240548</td>\n",
       "    </tr>\n",
       "    <tr>\n",
       "      <th>are</th>\n",
       "      <td>1.238749</td>\n",
       "    </tr>\n",
       "    <tr>\n",
       "      <th>cannabis</th>\n",
       "      <td>1.230392</td>\n",
       "    </tr>\n",
       "    <tr>\n",
       "      <th>pay</th>\n",
       "      <td>1.224211</td>\n",
       "    </tr>\n",
       "    <tr>\n",
       "      <th>steal</th>\n",
       "      <td>1.216219</td>\n",
       "    </tr>\n",
       "  </tbody>\n",
       "</table>\n",
       "</div>"
      ],
      "text/plain": [
       "                   coef\n",
       "content of     2.340086\n",
       "covid          1.845298\n",
       "content        1.785421\n",
       "christmas      1.684689\n",
       "amp            1.681607\n",
       "stolen         1.445817\n",
       "nft            1.381573\n",
       "omicron        1.327589\n",
       "say he         1.310572\n",
       "camel          1.302957\n",
       "2022           1.290638\n",
       "is             1.290110\n",
       "arrested       1.288101\n",
       "india          1.284224\n",
       "police         1.251648\n",
       "melania trump  1.240548\n",
       "are            1.238749\n",
       "cannabis       1.230392\n",
       "pay            1.224211\n",
       "steal          1.216219"
      ]
     },
     "execution_count": 75,
     "metadata": {},
     "output_type": "execute_result"
    }
   ],
   "source": [
    "# create dataframe for features with coef\n",
    "\n",
    "feature_importance = pd.DataFrame(np.transpose(lr_cvec.best_estimator_[1].coef_),\n",
    "                         columns=[\"coef\"],\n",
    "                         index= features)\n",
    "# sorting for highest coef\n",
    "feature_importance = feature_importance.sort_values(\"coef\", ascending=False)\n",
    "feature_importance.head(20)"
   ]
  },
  {
   "cell_type": "markdown",
   "id": "433482bd-ab53-442f-a51b-c0ef91e5f5ef",
   "metadata": {},
   "source": [
    "#### Randomforest feature importances"
   ]
  },
  {
   "cell_type": "code",
   "execution_count": 76,
   "id": "f77de81c-6adb-483e-9dbe-e61d9d1577aa",
   "metadata": {},
   "outputs": [
    {
     "data": {
      "text/html": [
       "<div>\n",
       "<style scoped>\n",
       "    .dataframe tbody tr th:only-of-type {\n",
       "        vertical-align: middle;\n",
       "    }\n",
       "\n",
       "    .dataframe tbody tr th {\n",
       "        vertical-align: top;\n",
       "    }\n",
       "\n",
       "    .dataframe thead th {\n",
       "        text-align: right;\n",
       "    }\n",
       "</style>\n",
       "<table border=\"1\" class=\"dataframe\">\n",
       "  <thead>\n",
       "    <tr style=\"text-align: right;\">\n",
       "      <th></th>\n",
       "      <th>coef</th>\n",
       "      <th>feature_importances</th>\n",
       "    </tr>\n",
       "  </thead>\n",
       "  <tbody>\n",
       "    <tr>\n",
       "      <th>in three</th>\n",
       "      <td>0.108806</td>\n",
       "      <td>0.007236</td>\n",
       "    </tr>\n",
       "    <tr>\n",
       "      <th>fare game</th>\n",
       "      <td>0.108863</td>\n",
       "      <td>0.006604</td>\n",
       "    </tr>\n",
       "    <tr>\n",
       "      <th>generosity bill</th>\n",
       "      <td>0.103490</td>\n",
       "      <td>0.004858</td>\n",
       "    </tr>\n",
       "    <tr>\n",
       "      <th>mississippi case</th>\n",
       "      <td>0.121435</td>\n",
       "      <td>0.004660</td>\n",
       "    </tr>\n",
       "    <tr>\n",
       "      <th>re elected</th>\n",
       "      <td>-0.014929</td>\n",
       "      <td>0.003999</td>\n",
       "    </tr>\n",
       "    <tr>\n",
       "      <th>too poor</th>\n",
       "      <td>-0.010438</td>\n",
       "      <td>0.003550</td>\n",
       "    </tr>\n",
       "    <tr>\n",
       "      <th>who drove</th>\n",
       "      <td>-0.051529</td>\n",
       "      <td>0.003484</td>\n",
       "    </tr>\n",
       "    <tr>\n",
       "      <th>celebrates 10th</th>\n",
       "      <td>-0.063033</td>\n",
       "      <td>0.003430</td>\n",
       "    </tr>\n",
       "    <tr>\n",
       "      <th>positive marketing</th>\n",
       "      <td>-0.035885</td>\n",
       "      <td>0.003145</td>\n",
       "    </tr>\n",
       "    <tr>\n",
       "      <th>expect sex</th>\n",
       "      <td>-0.138964</td>\n",
       "      <td>0.002916</td>\n",
       "    </tr>\n",
       "    <tr>\n",
       "      <th>36</th>\n",
       "      <td>-0.163852</td>\n",
       "      <td>0.002859</td>\n",
       "    </tr>\n",
       "    <tr>\n",
       "      <th>neighborhood child</th>\n",
       "      <td>-0.132245</td>\n",
       "      <td>0.002694</td>\n",
       "    </tr>\n",
       "    <tr>\n",
       "      <th>that just</th>\n",
       "      <td>-0.043306</td>\n",
       "      <td>0.002669</td>\n",
       "    </tr>\n",
       "    <tr>\n",
       "      <th>underground</th>\n",
       "      <td>-0.144819</td>\n",
       "      <td>0.002561</td>\n",
       "    </tr>\n",
       "    <tr>\n",
       "      <th>dems best</th>\n",
       "      <td>0.199775</td>\n",
       "      <td>0.002492</td>\n",
       "    </tr>\n",
       "    <tr>\n",
       "      <th>beat biden</th>\n",
       "      <td>-0.109342</td>\n",
       "      <td>0.002398</td>\n",
       "    </tr>\n",
       "    <tr>\n",
       "      <th>orca but</th>\n",
       "      <td>-0.004840</td>\n",
       "      <td>0.002244</td>\n",
       "    </tr>\n",
       "    <tr>\n",
       "      <th>discovered new</th>\n",
       "      <td>0.237701</td>\n",
       "      <td>0.002233</td>\n",
       "    </tr>\n",
       "    <tr>\n",
       "      <th>to ending</th>\n",
       "      <td>0.231619</td>\n",
       "      <td>0.002198</td>\n",
       "    </tr>\n",
       "    <tr>\n",
       "      <th>politics</th>\n",
       "      <td>-0.495495</td>\n",
       "      <td>0.002158</td>\n",
       "    </tr>\n",
       "  </tbody>\n",
       "</table>\n",
       "</div>"
      ],
      "text/plain": [
       "                        coef  feature_importances\n",
       "in three            0.108806             0.007236\n",
       "fare game           0.108863             0.006604\n",
       "generosity bill     0.103490             0.004858\n",
       "mississippi case    0.121435             0.004660\n",
       "re elected         -0.014929             0.003999\n",
       "too poor           -0.010438             0.003550\n",
       "who drove          -0.051529             0.003484\n",
       "celebrates 10th    -0.063033             0.003430\n",
       "positive marketing -0.035885             0.003145\n",
       "expect sex         -0.138964             0.002916\n",
       "36                 -0.163852             0.002859\n",
       "neighborhood child -0.132245             0.002694\n",
       "that just          -0.043306             0.002669\n",
       "underground        -0.144819             0.002561\n",
       "dems best           0.199775             0.002492\n",
       "beat biden         -0.109342             0.002398\n",
       "orca but           -0.004840             0.002244\n",
       "discovered new      0.237701             0.002233\n",
       "to ending           0.231619             0.002198\n",
       "politics           -0.495495             0.002158"
      ]
     },
     "execution_count": 76,
     "metadata": {},
     "output_type": "execute_result"
    }
   ],
   "source": [
    "# include Randomforest's feature importance to the dataframe\n",
    "feature_importance['feature_importances'] = np.transpose(rf_cvec.best_estimator_[1].feature_importances_)\n",
    "                                                         \n",
    "# Fileter the features based on Random forest feature importances.   \n",
    "feature_importance.sort_values(\"feature_importances\", ascending=False).head(20)"
   ]
  },
  {
   "cell_type": "markdown",
   "id": "5919c29b-26ad-4e78-b713-75af6126cc63",
   "metadata": {},
   "source": [
    "### Show the sentence contain words with highest coefficient form logistic regression"
   ]
  },
  {
   "cell_type": "code",
   "execution_count": 77,
   "id": "c41bf9ba-91f3-4b5c-aba6-1be9f8acffbc",
   "metadata": {},
   "outputs": [
    {
     "name": "stdout",
     "output_type": "stream",
     "text": [
      "Rock &amp; Roll Hall Of Fame Displays 43 Bullets Ringo Starr Took For John Lennon Before Mark David Chapman Caught Him Off Guard TheOnion\n",
      "The Taliban try to understand Trans &amp; Women rights TheOnion\n",
      "New Hampshire, Vermont asked to test deer for COVID-19 TheOnion\n",
      "World Chess Championship Forced To Use Salt Shaker After Losing Bishop TheOnion\n",
      "Travis Scott Partners With Stamps.Com In Hope Saving Time And Money On Shipping Also Helps Concertgoers Heal TheOnion\n",
      "Marlboro Sneaks Back Into Television Advertising With ‘Isn’t It Time We Started Smoking Again?’ Campaign TheOnion\n",
      "Man Asks If Clinic Has Any Visual Aids He Can Use To Produce Urine Sample TheOnion\n",
      "Destanis locks down florida after covid vaccination gets out of hand TheOnion\n",
      "BP Launches Environmental Campaign Pledging To Clean Up Oil Polluting Earth’s Interior TheOnion\n",
      "Tensions Escalate As Israel Closes Embassy Inside Ben &amp; Jerry’s Factory TheOnion\n",
      "Potential Gamer Fuel? Dove Men+Care Fresh &amp; Clean Fortifying 2-In-1 Shampoo Has Caffeine In It And Actually Tastes Pretty Good TheOnion\n",
      "Kim Kardashian is Challenged to a Fight by UFC Champion Amanda Nunes TheOnion\n",
      "Historians Confirm Lewis And Clark Set Out On Expedition To Justify Purchase Of Expensive Camping Equipment TheOnion\n",
      "Marketing Win: Ray-Ban Won An Award For Its Incredible ‘Ray-Ban 90% Off True Authentic Ray-Bans Just $19.99’ Social Media Ad Campaign TheOnion\n",
      "Kanye’s Response To Divorce Filing Blatantly Samples Kim Kardashian’s Petition TheOnion\n",
      "Vaccination campaign allows Americans to safely recover mass shootings [ES] TheOnion\n",
      "Recording Academy Reminds Nominees You Can Crank Little Arm On Statue To Hear Supertramp’s ‘Breakfast In America’ TheOnion\n",
      "CDC Launches Ad Campaign Featuring Racist Mascot In Effort To Get More Conservatives Vaccinated TheOnion\n",
      "Ted Cruz Celebrates Fulfilling Campaign Promise After Successfully Deporting 2 Hispanic Children TheOnion\n",
      "We’ve Seen Enough: OGN Is Officially Calling The State Of New Hampshire For Gamers TheOnion\n",
      "OSHA Announces Revamped Forklift Certification Will Feature Halfpipe Portion TheOnion\n",
      "Excited Tampa Bay Residents Wish They Had An Actual City To Tear Apart TheOnion\n",
      "Nation Settles On Being Home To Rock &amp; Roll Hall Of Fame As New Foundation For American Exceptionalism TheOnion\n",
      "‘Vampire: The Masquerade Bloodlines 2 First Blood Edition’ Has Way Too Long Of A Title To Really Say Much About It In This Headline TheOnion\n",
      "Gamer Camping Outside Home Depot On Off Chance They Start Stocking PS5s TheOnion\n",
      "South Dakota Unveils New ‘Come Die Here’ Tourism Campaign TheOnion\n",
      "Amy McGrath Blows Remaining Campaign Funds On Lavish Concession Bonanza TheOnion\n",
      "Trump Makes Last-Minute Campaign Stop To Rally Voters On Supreme Court TheOnion\n",
      "‘I Promise To Work Tirelessly To Achieve My Campaign’s Goals,’ Threatens Trump In Terrifying Address TheOnion\n",
      "Woman Hopes She Did Enough Worrying To Help Biden Campaign TheOnion\n",
      "Antonio Brown Agrees To One-Year Plea Deal With Tampa Bay Buccaneers TheOnion\n",
      "Paul Ryan Spending Final Day Of Campaign Reminding Homeless People They Did This To Themselves TheOnion\n",
      "Hurry Up! The First 100 OGE Attendees To Stop By The Nintendo Booth Today Will Get A Free Sample Of What Pikmin Taste Like TheOnion\n",
      "Disney World On Lockdown After Mickey Escapes Enclosure, Rampages Through Park TheOnion\n",
      "Mike Pence Hospitalized After Seeing Tampon Commercial TheOnion\n",
      "DNC Pours All Campaign Funding Into New York, California To Win Popular Vote By Even Greater Margin Than 2016 TheOnion\n",
      "When and why did Onion's downfall occur? They seems to produce much less quality content nowadays. TheOnion\n",
      "Biden Campaign Gets Kamala Harris Quickly Up To Speed On Candidate’s Plans For Presidential Funeral Service TheOnion\n",
      "Undecided Voter Looking Forward To Learning More About Donald Trump During Campaign TheOnion\n",
      "Herbalife Launches Sampler Kit Into Deep Space To Share Once-In-A-Lifetime Business Opportunity With Alien Civilizations TheOnion\n",
      "Biden Campaign Whittles VP Shortlist Down To Either Woman Or Man With Long Hair TheOnion\n",
      "Trump Campaign Releases Damning Video Of 30-Year-Old Puerto Rican Joe Biden Promoting Socialism TheOnion\n",
      "Friends Camping Out In Woods Just Happy To Escape The Daily Grind Of Federal Prison TheOnion\n",
      "Gamers, We Just Spent 4 Days Trapped In A Rolled-Over Minivan And We’re Genuinely Pissed That Nobody Reported Us Missing When We Didn’t Cover The ‘Ratchet &amp; Clank’ News TheOnion\n",
      "Tom Petty’s family issues cease and desist order against Trump campaign TheOnion\n",
      "International Con Man Barack Obama Leaves U.S. With $85 Million In Campaign Fundraising (2008) TheOnion\n",
      "Tampa Bay Gay Prostitutes Gearing Up For Flood Of Closeted Republicans TheOnion\n",
      "Buffalo Police Request Reinforcements Until Elderly-Man Rampages Fully Contained TheOnion\n",
      "Coronavirus: Monkeys 'escape with COVID-19 samples' after attacking lab assistant TheOnion\n",
      "DNC To Streamline Fundraising By Cutting Out Unnecessary Cost Of Campaigns, Candidates TheOnion\n",
      "Biden Campaign Considering Using The Internet To Attract Voters TheOnion\n",
      "Biden Campaign Fundraising Email Reminds Donors Sexual Assault Allegations Don’t Bury Themselves TheOnion\n",
      "Postal Service Unveils Plan To Pay Debts With New $1 Trillion Stamp TheOnion\n",
      "Undaunted Sanders Supporters Announce They’ll Continue Presidential Campaign Without Candidate TheOnion\n",
      "Exhausting Every Other Way To Pass Time, Couple Begins Ranking Their Lamps TheOnion\n",
      "NYPD Razes Central Park Hospital Tents For Violating Outdoor Encampment Laws TheOnion\n",
      "New York Quickly Builds Thousands Of Emergency Hamptons Mansions To Shelter Wealthy TheOnion\n",
      "Imran khan urges terrorists to give away training camps for Isolation centers. TheOnion\n",
      "National Park Service Under Fire For Wasting $40M To Pamper A Charming Moose | The Topical | Ep 41 TheOnion\n",
      "Russia Pledges To Run Completely Positive Disinformation Campaign In 2020 | The Topical | Ep 40 TheOnion\n",
      "Weighted Blanket Sure To Succeed Where CBD, Salt Lamp, Oil Diffuser, Acupressure Mat, Bath Bombs, And White Noise Machine Failed TheOnion\n",
      "Anti-Cyberbullying Campaign Encourages Kids To Do It In Person | The Topical | Episode 18 TheOnion\n",
      "Anti-Cyberbullying Campaign Encourages Kids To Get Out There And Do It In Person TheOnion\n",
      "‘I Love My Wife Marcia And 2 Beautiful Kids, Tad And Hayden,’ Says Buttigieg In Latest Campaign Shift TheOnion\n",
      "Bloomberg Hires Thousands Of Canvassers To Stop Black Men On Street And Force Them To Hear Campaign Pitch TheOnion\n",
      "Takeaways From The New Hampshire Primaries TheOnion\n",
      "Flustered New Hampshire Bed And Breakfast Host Informs Biden, Sanders, Buttigieg, Warren, Klobuchar They’re All Booked For Same Room TheOnion\n",
      "Most New Hampshire Democrats would rather see a meteor 'extinguish all human life' than Trump re-elected, poll finds TheOnion\n",
      "Romney Drops By To See How Down-And-Out Family He Met On Campaign Trail Doing TheOnion\n",
      "Tampax CEO Refuses To Resign Amidst Allegations That He Doesn’t Know What A Period Is TheOnion\n",
      "Speeding Democratic Campaign Buses Run Over 173 Iowans In Mad Dash To Get Fuck Out Of State TheOnion\n",
      "Report: 76% Of Sleepaway Campers’ Parents Beginning Trial Separation TheOnion\n",
      "Sanders Campaign Doubles Down With New Ad Warning Americans They’ll Never Be Able To Hear A Female President Over The Sound Of Her Vacuum TheOnion\n",
      "‘And Then Those 12 People Send It To 12 People—That’s 144 People!” Says Cory Booker Describing Campaign Newsletter Strategy To Rosario Dawson TheOnion\n",
      "Mad With Power: This Woman Just Commanded All Of Her Friends On Facebook To Recommend The Best Lunch Spot In Tampa Bay ASAP Like She’s The Fucking Queen Of England TheOnion\n",
      "Woman Tries Reading Shampoo Bottle Directions In French First To Test If She’s Secretly Smart TheOnion\n",
      "Pete Buttigieg Blames Inability To Disclose Political Stances On NDA With Buttigieg Campaign TheOnion\n",
      "Sonny Perdue Argues Food Stamp Cuts Will Incentivize People To Get Exploitative Jobs That Won’t Exist In 5 Years TheOnion\n",
      "Michael Bloomberg Treats Self To Second, Flashier Presidential Campaign TheOnion\n",
      "‘I Could Spare Some Change,’ Says Man About To Become Buttigieg Campaign’s Top Black Donor TheOnion\n",
      "Buttigieg Campaign Appeals to Moderate Republicans by Touting Low Approval Among Black Voters TheOnion\n",
      "I'm working on starting my own onion-like site specifically targeted to be a satire on overly religious news sites, any feedback on this sample article I made? TheOnion\n",
      "Bad News, Gamers! ‘Mario &amp; Sonic At The Olympic Games Tokyo 2020’ Will Be The Last Game TheOnion\n",
      "Body Positivity Win! Dove Just Released A Powerful New Ad Campaign Announcing That In Their Eyes Everyone Is Fat TheOnion\n",
      "Bernie Sanders Holds Secret Campaign Meeting With 15,000 Working-Class Democratic Donors TheOnion\n",
      "Taquitos Finally Hatch After Days Under Heat Lamp TheOnion\n",
      "Being As Clear As Possible: Audi Has Launched A New Ad Campaign To Clarify That Anyone Is Allowed To Buy And Drive An Audi, It Doesn’t Have To Just Be Old Bald White Guys TheOnion\n",
      "2 Associates Of Giuliani Indicted On Campaign Finance Charges TheOnion\n",
      "Chinese Officials Respond To NBA Controversy By Moving Millions Of Citizens To NHL Re-Fanification Camps TheOnion\n",
      "Lindsey Graham Demands To Know How Trump Supposed To Lead Nation Under Such Rampant Accountability TheOnion\n",
      "Joe Kennedy Dodges Crashing Planes, Swerving Cars After Announcing Campaign For Senate TheOnion\n",
      "Bold Strategy: Gatorade’s New Ad Campaign Pushes The Notion That Dumping Gatorade On People Is Something You Should Do When You’re Sad, Too TheOnion\n",
      "Biden Campaign Concerned After Candidate Gives Unsolicited Back Rub To Coat Rack TheOnion\n",
      "‘Help! Help! Who Am I? Where Am I? Who Are You People?’ Says Biden In Embarrassing Campaign Gaffe TheOnion\n",
      "Democrats Launch New ‘Listen Up, Hayseeds” Campaign To Connect With Rural Voters TheOnion\n",
      "David Koch Pumps Billions Of Dollars Into Campaign To Secure Antonin Scalia A Seat In The Holy Trinity TheOnion\n",
      "‘Please, Let It Die’: The Creators Of ‘Stranger Things’ Are Preemptively Begging Fans Not To Do A Viral Campaign To Save The Show When It Gets Canceled TheOnion\n",
      "Shocked Vladimir Putin Slowly Realizing He Didn’t Conspire With Trump Campaign TheOnion\n",
      "A reminder of (and link to) all of ClickHole's Captn Crunch content. You're welcome in advance. TheOnion\n",
      "Postal Service Releases Stamp With Anus On It To See If Anyone Cares What’s On Stamps Anymore TheOnion\n",
      "Pete Buttigieg Charms Crowd At Iowa Truck Stop By Sampling Local Meth TheOnion\n",
      "Trump Campaign Denies Doctoring Photos Showing Him Speaking To 1.8 Million Shooting Victims At Dayton Hospital TheOnion\n",
      "Francis Ford Coppola Spends Afternoon Hawking Samples Of Coppola Winery Cabernet To Indifferent Grocery Store Shoppers TheOnion\n",
      "Sable &amp; Rosenfeld Launches Ad Campaign Rebranding Their Cocktail Onions As Gamer Fuel TheOnion\n",
      "Frustrated Subway Marketers Scrap $150 Million Jeffrey Epstein Ad Campaign TheOnion\n",
      "Trump Campaign Store Offering Special Disavowed Discount On All ‘Send Her Back’ Merchandise TheOnion\n",
      "Man’s Existential Terror About Country’s Slide Towards Authoritarianism Sublimated Into Campaign To Get Journalist Fired For Tweet TheOnion\n",
      "Hot Wheels Ranked Number One Toy For Rolling Down Ramp, Knocking Over Dominoes That Send Marble Down A Funnel (cont.) TheOnion\n",
      "U.N. Secretary General Assumes Someone Already Doing Something About Uighur Internment Camps TheOnion\n",
      "ICE Argues Migrants In Camps Are Free To Die At Any Time TheOnion\n",
      "Queen Elizabeth Unnerved By Stephen Miller’s Requests To Sample Royal Baby TheOnion\n",
      "Unforced Error: Elmer’s Glue Just Released An Extremely Body-Negative Series Of Ads As Part Of A New ‘Only Perfect 10s Use Elmer’s’ Campaign TheOnion\n",
      "Sanders Supporters Viciously Attack Bernie Sanders After He Criticizes Mistakes Of 2016 Sanders Campaign TheOnion\n",
      "Pete Buttigieg Stuns Campaign Crowd By Speaking To Manufacturing Robots In Fluent Binary TheOnion\n",
      "New Trump Proposal Could Strip 750,000 Of Food Stamps TheOnion\n",
      "Man Entering Fog Of Insanity Asked If This His First Time At Dave &amp; Buster’s TheOnion\n",
      "Trump Ramps Up Attacks On John McCain By Dragging Senator’s Exhumed Corpse Behind Motorcade TheOnion\n",
      "Biden Pulls Off Dusty Tarp Covering Old Campaign Motorcycle TheOnion\n",
      "Feminism FTW: This Amazing Body-Positive Instagram Ad Campaign Is Empowering Women To Buy A Bra That Costs $95 TheOnion\n",
      "Beto O’Rourke Announces He Starting Obama Cover Campaign TheOnion\n",
      "Wow: This Incredible World-Record Pole Vaulter Is A Beautiful Example Of The Amazing Things Human Beings Can Achieve When They Use Poles TheOnion\n",
      "Heartwarming: These Awesome Teen Volunteers Call Nursing Home Residents Once A Week To Remind Them About Swamps TheOnion\n",
      "Finally! Kotex Has Released A Line Of Tampons With A 15-Foot String And A Bell At The End So You Never Forget About Your Tampon TheOnion\n",
      "Buy Facebook Ads Accounts - 100% Active &amp; Verified Business Manager nottheonion\n",
      "Michigan says it won't follow CDC's relaxed covid 19 recommendations. nottheonion\n",
      "Capital Hospital Islamabad Jobs 2022 for Medical Officers, Nurses, Specialist Doctors, Office Attendants, Ward Boys / Aya, Sanitary Workers, Security Guards &amp; Others Latest nottheonion\n",
      "Rand Paul Says Legal Campaign Methods Are How Dems \"Steal\" Elections nottheonion\n",
      "A squirrel went on a vicious Christmas rampage in a Welsh town, attacking 18 residents and animals nottheonion\n",
      "\"Vicious\" Squirrel Attacks 18 People In Two-Day Christmas Rampage nottheonion\n",
      "‘Psycho’ squirrel goes on 48-hour Christmas rampage in UK town, injures 18 people nottheonion\n",
      "Squirrel injures 18 people in Welsh town during two-day Christmas rampage nottheonion\n",
      "‘Bloodthirsty’ squirrel attacks 18 people in Welsh village in two-day Christmas rampage nottheonion\n",
      "Bloodthirsty, 'Psycho' Squirrel Attacks 18 in Small Town Christmas Rampage nottheonion\n",
      "Bloodthirsty, \"psycho\" squirrel attacks 18 in small town Christmas rampage nottheonion\n",
      "‘Psycho’ squirrel’s 48-hour Christmas rampage terrorizes town, injures 18 nottheonion\n",
      "‘Bloodthirsty’ squirrel attacks 18 people in small Welsh village in two-day Christmas rampage nottheonion\n",
      "[Campbell] Due to a stadium ban, Sparta Prague only let in 10,000 local under-14 children, they have been booing every touch from Glen Kamara, who was racially abused by a Slavia Prague player last season. nottheonion\n",
      "Fight on Delta flight from Tampa to Atlanta started with Rosa Parks comment and masks, feds say nottheonion\n",
      "‘Bloodthirsty’ squirrel attacks 18 people in Welsh village in two-day Christmas rampage [X-post] nottheonion\n",
      "'Psycho' squirel on two-day rampage leaves 18 people injured nottheonion\n",
      "'Psycho' squirrel leaves 18 people injured in 48-hour rampage nottheonion\n",
      "Squirrel goes nuts and injures 18 in rampage nottheonion\n",
      "'Psycho' squirrel on 48-hour rampage leaves 18 people injured nottheonion\n",
      "Residents Terrified After Rogue Squirrel Goes On Two-Day Rampage nottheonion\n",
      "'Psycho' squirrel's reign of terror ends after rampage left 18 people injured nottheonion\n",
      "AHA says not to delay CPR on covid+ patients just to put on a mask nottheonion\n",
      "Dad goes to Indian restaurant on Xmas Day &amp; complains food’s not ‘traditional’ nottheonion\n",
      "Santa kicked out of AT&amp;T Stadium after putting Cowboys fan in headlock nottheonion\n",
      "Qantas, Jetstar, Virgin Australia, Rex and More Launch \"No More Carry On\" Campaign nottheonion\n",
      "Woman who had leg amputated after pedicure gets $1.75 million settlement nottheonion\n",
      "A man who says he found a frog in a box of lettuce has named the amphibian Tony and is currently keeping it as a pet nottheonion\n",
      "Logan Paul claims people think Jake Paul is this generation's Mike Tyson &amp; Muhammad Ali nottheonion\n",
      "Cookies &amp; Cream She’s Eating Herself Out nottheonion\n",
      "Govt doesn't agree with India's rank in World Press Freedom Index: I&amp;B minister nottheonion\n",
      "Gentle Night Rain in a Forest Cave House - Sleep Instantly for 8HRS &amp; B... nottheonion\n",
      "👉What christmas 🎄 means to me nottheonion\n",
      "Army charity gift hampers bring joy to veterans and their families nottheonion\n",
      "Mike Tyson would KO sparring partners to get home in time to watch Tom &amp; Jerry, says ex-bodyguard nottheonion\n",
      "Tampa woman who lost leg after pedicure at nail salon gets big payout, lawyers say nottheonion\n",
      "A professor hid a cash prize on campus and all students had to do was read the syllabus nottheonion\n",
      "Rain &amp; Birds Sounds on Home Office/Library Window. Nature Sounds for Rel... nottheonion\n",
      "UK accused of blocking ban on 'killer robots' as campaigners warn of autonomous weapons nottheonion\n",
      "Relaxing &amp; Meditation Rain on Downtown Apartment. White Noise to Relieve... nottheonion\n",
      "Spain police thwart raffle of Christmas hamper stuffed with drugs nottheonion\n",
      "Content of Essentials of Exercise &amp; Sport Nutrition nottheonion\n",
      "Rampaging monkeys kill 250 dogs in India in revenge massacre nottheonion\n",
      "Watch : Tom Holland aka Spiderman talks about his struggles with dyslexia, his accent, &amp; success as an actor ... nottheonion\n",
      "Dungeons &amp; Dragons: Wizards of the Coast Removes Problematic Lore nottheonion\n",
      "In Leavenworth, Christmas skirmish breaks out over rebranding and Krampus Drink Crawl nottheonion\n",
      "Sarah Palin says ‘over my dead body’ will authorities make her have a covid vaccine shot nottheonion\n",
      "Report: Monkeys in India going on deadly rampage against dogs after baby monkey killed nottheonion\n",
      "GOP gubernatorial candidate’s campaign video celebrates Minnesota with stock images from Eastern Europe nottheonion\n",
      "NCIS LA &amp; Amazing Race Actor Arrested On Set For Murder Of 2 Women nottheonion\n",
      "A professor hid a cash prize on campus. All students had to do was read the syllabus nottheonion\n",
      "Double &amp; Triple Vaccinated accounted for 4 in every 5 Covid-19 Deaths over the past month, despite most vulnerable getting Booster in October nottheonion\n",
      "Rampaging monkeys kill 250 dogs in India in revenge massacre. nottheonion\n",
      "Revenge of the Apes: Monkeys in Maha's Beed On a Murderous Rampage After Dogs Kill One of their Infants nottheonion\n",
      "Kanye West’s “Independent” Presidential Campaign Was Secretly Run By GOP Operatives nottheonion\n",
      "Kanye West’s ‘Independent’ Campaign Was Secretly Run by GOP Elites nottheonion\n",
      "Dave Ramsey fires a dozen employees for being pregnant &amp; unmarried nottheonion\n",
      "Trinidad &amp; Tobagao Has Confirmed They Have No Record of Nicki Minaj's Cousin's Friend's Swollen Balls nottheonion\n",
      "Rocket scientists &amp; brain surgeons argue about whether the phrase \"it's not brain surgery\" or \"it's not rocket science\" is most deserved. nottheonion\n",
      "M&amp;S accuses Aldi of copying Christmas gin nottheonion\n",
      "Heavy Rain &amp; Thunder on a House Inside a Bamboo Forest in Seoul. Relaxing, Meditation &amp; ASMR Rain. nottheonion\n",
      "CrownCruiser - Carbon Fiber e-Bike The Most Stylish Bike out there! 31MPH | 100-Mile Range | Fully Customizable Colors &amp; Skins nottheonion\n",
      "BP Doctor MED: World's 1st Med-Grade BP Smartwatch Wearable Blood Pressure Monitoring 24/7|Accuracy ±5mmHg| In-App Sync&amp;Insight|Activity&amp;Sleep Tracking nottheonion\n",
      "Deeper Connect Pico The World's One and Only Decentralized VPN (DPN) &amp; Secure Gateway Hardware - For Life! nottheonion\n",
      "HUENIT - AI camera &amp; modular robot arm HUENIT has AI vision, 3D printer, laser engraving and drawing modules. All your ideas become reality with HUENIT! nottheonion\n",
      "France's education minister has set up an \"anti-woke think tank\" to combat the spread of \"cultural totalitarianism\" from US &amp; UK nottheonion\n",
      "Sioux Falls-area teachers 'Dash for Cash' for classroom improvements at Stampede game nottheonion\n",
      "Secrets to boosting your CONFIDENCE and public SPEAKING skills , please give me a thumbs up and share this content if you like it nottheonion\n",
      "Usain Bolt: Mario Kart helped me become Olympic Champion nottheonion\n",
      "Too many women in fire service - Hampshire deputy police chief nottheonion\n",
      "Italian antivax health worker who said \"i hope to get covid\" when suspended from work for refusing to get vaccinated died of covid. nottheonion\n",
      "A&amp;W’s 1/3 Pound Burger Failed, So It’s Trying a 3/9 Pounder nottheonion\n",
      "How Big Corporations Shift Blames of Carbon Emission &amp; Climate Change To You nottheonion\n",
      "Florida couple purchased more than 200 candles in Bath &amp; Body Works sale: report nottheonion\n",
      "Elon Musk : Tesla will make some merch buyable with Doge &amp; see how it goes. Musk tweeted about dogecoin, sending it up over 40% nottheonion\n",
      "Content of Hereditarily changed food contentions nottheonion\n",
      "Scientists studying microplastics in Antarctica discover that 89 per cent of samples analysed came from the paint on their OWN SHIP nottheonion\n",
      "Scientists studying microplastics in Antarctica discover that nearly 90 % of samples analysed came from paint on their own ship nottheonion\n",
      "Scientist studying microplastics in the ocean discover that 90% of the samples analyzed came from paint on their ship. nottheonion\n",
      "Man takes 10 covid vaccine shots in one day nottheonion\n",
      "New death as Omicron Variant spreads across UK ! Boris Johnson’s booster jab announcement comes as covid-19 claims another life in Gloucestershire nottheonion\n",
      "A dream come true for Max Verstappen as he crosses the line in Abu Dhabi And becomes F1 World Champion for the first time ! nottheonion\n",
      "Viral Video : YoungBoy Never Broke Again : NBA Youngboy – Heart &amp; Soul / Alligator Walk nottheonion\n",
      "Julianna Pena win over Amanda Nunes. UFC 269: Julianna Peña Octagon Interview | New UFC Bantamweight Champion. who is Julianna Peña? nottheonion\n",
      "Homeless people arrested for violating curfew by not reporting to the homeless Camp which has been shut down nottheonion\n",
      "who is Laura Shepard Churchley? Astronaut Alan Shepard’s Daughter. Laura &amp; Micheal Strahan among six launching to space nottheonion\n",
      "Camels ejected from beauty contest over Botox use and other 'tampering' nottheonion\n",
      "43 Camels ejected from beauty contest over Botox use and other 'tampering' nottheonion\n",
      "Oreo Thins Joins Barefoot for a Cookies &amp; Cream Red Wine Blend nottheonion\n",
      "Saudi camel beauty pageant clamps down on Botox cheats nottheonion\n",
      "U.S. accuses El Salvador of cutting secret deal with MS-13 to tamp down killings nottheonion\n",
      "Vì sao nách có mùi hôi Nguyên Nhân &amp; Cách trị hôi nách nottheonion\n",
      "Telegram has added content protection support to enable users to block others from saving or forwarding posts shared in groups and channels nottheonion\n",
      "Jenna-Ryan: Prison is great for detox, yoga, &amp; smoothies nottheonion\n",
      "No arrests after hundreds of children involved in brawl at Tampa trampoline park nottheonion\n",
      "Two tigers test positive for COVID-19 at Pittsburgh Zoo &amp; PPG Aquarium nottheonion\n",
      "Surgeon fined €2,700 for amputating wrong leg nottheonion\n",
      "#WATCH| Delhi CM Arvind Kejriwal is a liar, he taxes rich people &amp; provides free electricity in slum areas with that money. Till when you (Kejriwal) are going to provide this \"lollipop\" to people? This will not work in Punjab: State Congress Chief Navjot Singh Sidhu in Amritsar nottheonion\n",
      "Jamaica launches ‘Good Ganja Sense’ campaign to educate public on cannabis nottheonion\n",
      "Jamaican Government Launches Campaign About How Great Weed Is nottheonion\n",
      "U.S. embassy in Tokyo warns of &amp;#x27;suspected racial profiling&amp;#x27; by Japanese police nottheonion\n",
      "Intoxicated woman wrecks car at police headquarters &amp; urinates on their steps nottheonion\n",
      "i will Be your social media manager and create content by Rashed997 nottheonion\n",
      "The Advantages of Bitcoin Casinos + Best Online Casinos for Real Money &amp; Online Gambling + Underrated Casino Tips nottheonion\n",
      "Bomb squad called to A&amp;E after mortar pulled from man's rear nottheonion\n",
      "Bomb squad attend A&amp;E after man gets WWII explosive stuck in rectum nottheonion\n",
      "Ammon Bundy to Idaho court: Campaigning should count as community service nottheonion\n",
      "Bomb squad race to A&amp;E after patient arrives with artillery shell up his bottom nottheonion\n",
      "Bomb squad race to A&amp;E after patient arrives with ARTILLERY SHELL up his bottom nottheonion\n",
      "Bomb squad scrambled to A&amp;E after mortar shell gets stuck in man's bottom nottheonion\n",
      "Bomb squad called to Gloucester A&amp;E over unexploded device nottheonion\n",
      "Bomb squad race to A&amp;E after patient arrives with WW2 artillery shell stuck up his bottom nottheonion\n",
      "Gloucestershire: Bomb squad called to A&amp;E after man gets anti-tank shell lodged up rectum nottheonion\n",
      "Man ‘goes to A&amp;E with WW2 shell stuck in bottom’ as bomb squad called nottheonion\n",
      "Bomb squad called to A&amp;E after man arrives with WW2 artillery shell up his bum nottheonion\n",
      "Bomb squad called to A&amp;E as man gets WW2 mortar stuck up his bum nottheonion\n",
      "'Milk &amp; dates': Egyptian singer swaps out 'alcohol, hashish' lyric for Saudi gig, outrages fans nottheonion\n",
      "Bomb squad rush to A&amp;amp;E after man arrives with WW2 artillery shell up his bum nottheonion\n",
      "Bomb Squad Rushes to A&amp;E After Mortar Shell Gets Stuck in Man's Bottom nottheonion\n",
      "Man ‘goes to A&amp;E with WW2 shell stuck in rear end’ nottheonion\n",
      "Man ‘goes to A&amp;E with WW2 shell stuck in bottom’ nottheonion\n",
      "Bomb squad rushed to A&amp;E after man gets WWII explosive stuck up his rectum nottheonion\n",
      "Bomb Squad are called to A&amp;E where patient turned up with two-inch-wide WWII shell lodged in his rectum which got there when he ‘slipped and fell on it during a clear-out’ nottheonion\n",
      "Bomb squad rush to A&amp;E after man arrives with WW2 artillery shell up his bum nottheonion\n",
      "Bomb Squad Called To A&amp;E After Man \"Slips And Falls\" Lodging WWII Shell Inside His Bottom nottheonion\n",
      "Bomb Squad Called To A&amp;E After Man ‘Slips And Falls’ Lodging WWII Shell Inside His Bottom nottheonion\n",
      "I've got a problem with my arsenal, doc: Bomb Squad are called to A&amp;E where patient turned up with two-inch-wide WWII shell lodged in his rectum which got there when he 'slipped and fell on it during a clear-out' nottheonion\n",
      "Italy No Vax tries to get covid vaccine with fake arm nottheonion\n",
      "Verizon Fios Deals | Online Exclusive! Order online today and we&amp;apos;ll waive the $99 setup charge. | Verizon Fios Coupons and Deals for December 2021 nottheonion\n",
      "Italian anti-vax tries to get covid vaccine with fake arm nottheonion\n",
      "On this day in 1984, world witnessed its worst industrial disasters - the Bhopal Gas Tragedy, which killed over 20,000 people. Here's the story of Padma Shri Abdul Jabbar, who fought for justice for the victims, survivors &amp; their families for 3 decades, before he breathed his last in November 2019. nottheonion\n",
      "Homeless Encampment Swept Ahead of North Seattle Walk to End Homelessness 5K nottheonion\n",
      "Tampa Bay's Gay Commie Skate Crew hosts warm clothing donation drive this Saturday nottheonion\n",
      "Austrian surgeon fined €2,700 for amputating wrong leg nottheonion\n",
      "Surgeon fined €2,700 for amputating wrong leg of patient nottheonion\n",
      "Surgeon fined $3,000 for amputating patient's wrong leg nottheonion\n",
      "Chef Handed Suspended Jail Sentence After Undercooked Shepherd's Pie Killed 1 &amp; Left 31 Ill nottheonion\n",
      "In first interview from jail, suspect accused of killing 6 in Wisconsin parade rampage says he feels ‘demonized’ nottheonion\n",
      "Austria: Doctor fined for amputating wrong leg of patient nottheonion\n",
      "Fury over 'deeply offensive' Marks &amp; Spencer 'Merry Pigmas' cards on sale nottheonion\n",
      "Meet the day-trading hamster that is outperforming Warren Buffett, Cathie Wood, and the S&amp;P 500 nottheonion\n",
      "Ex-footballer Mohamed Aboutrika calls homosexuality a 'dangerous ideology' against the backdrop of the Premier League's Rainbow Laces campaign nottheonion\n",
      "'Reindeer Burglar' Wanted By New Hampshire Police Over School Break-In nottheonion\n"
     ]
    }
   ],
   "source": [
    "a = feature_importance['coef'][:5].index\n",
    "reddit_post['title'].apply(lambda x: any(b in x for b in a)) \n",
    "\n",
    "indexes= reddit_post[reddit_post['title'].apply(lambda x: any(b in x for b in a))==True].index\n",
    "\n",
    "for index in indexes:\n",
    "    print(reddit_post['title'][index], reddit_post['subreddit'][index])"
   ]
  },
  {
   "cell_type": "markdown",
   "id": "a2ea66f8-6acd-4641-be68-c67bd332d828",
   "metadata": {},
   "source": [
    "#### Plot most significant coefs from Logistic Regression"
   ]
  },
  {
   "cell_type": "code",
   "execution_count": 78,
   "id": "8adff90d-f016-4352-9308-3bb1779e688b",
   "metadata": {},
   "outputs": [
    {
     "data": {
      "image/png": "[encoded data removed]",
      "text/plain": [
       "<Figure size 720x504 with 1 Axes>"
      ]
     },
     "metadata": {
      "needs_background": "light"
     },
     "output_type": "display_data"
    }
   ],
   "source": [
    "lr_coef = pd.concat(objs=[feature_importance.sort_values(\"coef\", ascending=False).head(), feature_importance.sort_values(\"coef\", ascending=False).tail()])\n",
    "\n",
    "# plotting most significant coefs from Logistic Regression\n",
    "plt.figure(figsize=(10, 7))\n",
    "sns.barplot(data=lr_coef,\n",
    "            x=\"coef\",\n",
    "            y=lr_coef.index,\n",
    "            palette=\"RdBu_r\")\n",
    "plt.title(\"Top Features for Determining Subreddit using Logistic Regression\", size=20)\n",
    "plt.yticks(size=12)\n",
    "plt.xticks(size=12)\n",
    "plt.ylabel(\"Feature\", size=16)\n",
    "plt.xlabel(\"Logistic regression model Coefficient \", size=16);"
   ]
  },
  {
   "cell_type": "markdown",
   "id": "5049a51d-8440-4f4a-be45-ca9a4f196fe7",
   "metadata": {},
   "source": [
    "**Comments:**  Based on the LR model coefficient, we can see the words that affect the model most significantely. We observed that word 'covid' and 'coronavirus' which represent the same meaning however their coefficient are positive and negative at the same time. "
   ]
  },
  {
   "cell_type": "markdown",
   "id": "d7f456d8-0bb6-4452-8d86-cfa7847850c3",
   "metadata": {},
   "source": [
    "#### Plot most significant coefs from RandomForest"
   ]
  },
  {
   "cell_type": "code",
   "execution_count": 79,
   "id": "a0664165-2d09-40b5-8d6d-32cabf1224b9",
   "metadata": {},
   "outputs": [
    {
     "data": {
      "image/png": "[encoded data removed]",
      "text/plain": [
       "<Figure size 720x504 with 1 Axes>"
      ]
     },
     "metadata": {
      "needs_background": "light"
     },
     "output_type": "display_data"
    }
   ],
   "source": [
    "rf_feature_imp = pd.concat(objs=[feature_importance.sort_values(\"feature_importances\", ascending=False).head(), feature_importance.sort_values(\"feature_importances\", ascending=False).tail()])\n",
    "\n",
    "# plotting most significant coefs\n",
    "plt.figure(figsize=(10, 7))\n",
    "sns.barplot(data=rf_feature_imp,\n",
    "            x=\"coef\",\n",
    "            y=rf_feature_imp.index,\n",
    "            palette=\"RdBu_r\")\n",
    "plt.title(\"Top Features for Determining Subreddit using RandomForest model\", size=20)\n",
    "plt.yticks(size=12)\n",
    "plt.xticks(size=12)\n",
    "plt.ylabel(\"Feature\", size=16)\n",
    "plt.xlabel(\"RandomForest model feature importances \", size=16);"
   ]
  },
  {
   "cell_type": "markdown",
   "id": "b382942f-0129-44b4-bd6c-7ba2908d22cc",
   "metadata": {},
   "source": [
    "**Comments:**  The word 'onion' has the most negative impact to the RandomForest model."
   ]
  },
  {
   "cell_type": "markdown",
   "id": "c1ffff52-36dc-4280-9ce7-0821100699d2",
   "metadata": {},
   "source": [
    "### ROC curve"
   ]
  },
  {
   "cell_type": "code",
   "execution_count": 80,
   "id": "7138ba6b-33bd-4fac-8ae7-8d5147bf1e03",
   "metadata": {
    "tags": []
   },
   "outputs": [
    {
     "data": {
      "image/png": "[encoded data removed]",
      "text/plain": [
       "<Figure size 720x720 with 1 Axes>"
      ]
     },
     "metadata": {
      "needs_background": "light"
     },
     "output_type": "display_data"
    }
   ],
   "source": [
    "fig, ax = plt.subplots(figsize=(10, 10))\n",
    "plot_roc_curve(mnb_cvec, X_test, y_test, ax=ax, label='MultinomialNB')\n",
    "plot_roc_curve(svm_cvec, X_test, y_test, ax=ax,label='SVM')\n",
    "plot_roc_curve(rf_cvec, X_test, y_test, ax=ax, label='RandomForest')\n",
    "plot_roc_curve(lr_cvec, X_test, y_test, ax=ax, label='LogisticRegression')\n",
    "plot_roc_curve(knn_cvec, X_test, y_test, ax=ax, label='KNN')\n",
    "plt.plot([0, 1], [0, 1], label='baseline', linestyle='--') # to simulate random guess \n",
    "plt.legend();"
   ]
  },
  {
   "cell_type": "code",
   "execution_count": 81,
   "id": "a3afe5d8-1b72-460c-8036-d00225233ce5",
   "metadata": {},
   "outputs": [
    {
     "data": {
      "text/plain": [
       "[0.8171246904172224,\n",
       " 0.7455967803391123,\n",
       " 0.8290007620499142,\n",
       " 0.6378429224614213,\n",
       " 0.8304819965707754]"
      ]
     },
     "execution_count": 81,
     "metadata": {},
     "output_type": "execute_result"
    }
   ],
   "source": [
    "roc_auc =[]\n",
    "    \n",
    "for pred in y_preds:\n",
    "    fpr, tpr, thresholds = roc_curve(y_test, pred)\n",
    "    roc_auc.append(auc(fpr, tpr))\n",
    "    \n",
    "roc_auc"
   ]
  },
  {
   "cell_type": "code",
   "execution_count": 82,
   "id": "3726204c-e987-4aba-b993-d5744d8747f2",
   "metadata": {},
   "outputs": [],
   "source": [
    "auc_comparison = pd.DataFrame(columns=['model','auc'])\n",
    "\n",
    "auc_comparison[\"model\"] = [f\"{model.estimator.steps[1]}\" for model in models]\n",
    "\n",
    "auc_comparison[\"auc\"] = [auc for auc in roc_auc]"
   ]
  },
  {
   "cell_type": "code",
   "execution_count": 83,
   "id": "d806fc3b-a179-49b3-89d6-0dd95809c200",
   "metadata": {},
   "outputs": [
    {
     "data": {
      "text/html": [
       "<div>\n",
       "<style scoped>\n",
       "    .dataframe tbody tr th:only-of-type {\n",
       "        vertical-align: middle;\n",
       "    }\n",
       "\n",
       "    .dataframe tbody tr th {\n",
       "        vertical-align: top;\n",
       "    }\n",
       "\n",
       "    .dataframe thead th {\n",
       "        text-align: right;\n",
       "    }\n",
       "</style>\n",
       "<table border=\"1\" class=\"dataframe\">\n",
       "  <thead>\n",
       "    <tr style=\"text-align: right;\">\n",
       "      <th></th>\n",
       "      <th>model</th>\n",
       "      <th>auc</th>\n",
       "    </tr>\n",
       "  </thead>\n",
       "  <tbody>\n",
       "    <tr>\n",
       "      <th>0</th>\n",
       "      <td>('mnb', MultinomialNB())</td>\n",
       "      <td>0.817125</td>\n",
       "    </tr>\n",
       "    <tr>\n",
       "      <th>1</th>\n",
       "      <td>('rf', RandomForestClassifier())</td>\n",
       "      <td>0.745597</td>\n",
       "    </tr>\n",
       "    <tr>\n",
       "      <th>2</th>\n",
       "      <td>('lr', LogisticRegression())</td>\n",
       "      <td>0.829001</td>\n",
       "    </tr>\n",
       "    <tr>\n",
       "      <th>3</th>\n",
       "      <td>('knn', KNeighborsClassifier())</td>\n",
       "      <td>0.637843</td>\n",
       "    </tr>\n",
       "    <tr>\n",
       "      <th>4</th>\n",
       "      <td>('svm', SVC())</td>\n",
       "      <td>0.830482</td>\n",
       "    </tr>\n",
       "  </tbody>\n",
       "</table>\n",
       "</div>"
      ],
      "text/plain": [
       "                              model       auc\n",
       "0          ('mnb', MultinomialNB())  0.817125\n",
       "1  ('rf', RandomForestClassifier())  0.745597\n",
       "2      ('lr', LogisticRegression())  0.829001\n",
       "3   ('knn', KNeighborsClassifier())  0.637843\n",
       "4                    ('svm', SVC())  0.830482"
      ]
     },
     "execution_count": 83,
     "metadata": {},
     "output_type": "execute_result"
    }
   ],
   "source": [
    "auc_comparison"
   ]
  },
  {
   "cell_type": "markdown",
   "id": "984237ca-b698-4222-a580-7b1e62336935",
   "metadata": {},
   "source": [
    "**Comments:**  ROC curve is used to measure the performance of classification model. It explains how much the model is capable of differentiating between classes. The higher the AUC - Area under curve, the better the model is at predicting the results. <br> From the ROC curve, we can see that KNeighborsClassifier is the worst model at predicting the datasets, with only 0.638% area under curve. SVM, LogisticRegression and MultinomialNB are at the top 3 models that excel in predicting the outcome. "
   ]
  },
  {
   "cell_type": "markdown",
   "id": "da4ade2a-97c8-4314-8594-efe16e377050",
   "metadata": {},
   "source": [
    "## Conclusions and Recommendations"
   ]
  },
  {
   "cell_type": "markdown",
   "id": "c72bb483-5d3a-4db2-9e33-3c9db3ea58de",
   "metadata": {},
   "source": [
    "### Conclusions"
   ]
  },
  {
   "cell_type": "markdown",
   "id": "b0546dc7-a754-4c8d-b797-3156ebb4b695",
   "metadata": {},
   "source": [
    "We have explore the NLP method to identify fake news and real news. The data collected from r/TheOnion or r/nottheonion has been processed by using methods such as word extration, tokenizing, and lemmatizing. The Support vector machines model(SVM) has the highest test score at 83.44% and F1 scores of 80.87%. LogisticRegression model also performed similarly compared to SVM with test score of 83.23% and F1 scores of 80.73% despite being a simpler model. KNN is the worse model to predict title from r/TheOnion or r/nottheonion with 44.87% f1 score only. The hyperparameter tuning for countvectorizer suggest to include stop word is a better parameter. <br>\n",
    "\n",
    "Hence, we will choose `CountVectorizer` + `Support vector machines model(SVM)` model as it has the highest F1 scores that minimise false positives and false negatives. Also it is simple and easy to implement in order to provide accurate text classification predictions.\n",
    "\n"
   ]
  },
  {
   "cell_type": "markdown",
   "id": "3ce8c83b-9aa5-4d52-8278-917759c94ce5",
   "metadata": {},
   "source": [
    "### Recommendations"
   ]
  },
  {
   "cell_type": "markdown",
   "id": "3dd6056b-a1dd-4fdc-80c7-303ae4c9bf25",
   "metadata": {},
   "source": [
    "The model does not include special characters such as emojis, non english words, or any other non alphanumeric characters. There could be some important information being ignored. Further preprocessing could be done on the subreddit title to capture more informations from text. <br> \n",
    "\n",
    "Furthermore, we could also try to model with stopword removed. As those common words could appear in both subreddit frequently. Add on more features such as subtext, comments and upvotes can be consider to train the model. We can also experiment with more advanced NLP teahniques such as BERT language model. \n",
    "\n"
   ]
  }
 ],
 "metadata": {
  "kernelspec": {
   "display_name": "Python 3",
   "language": "python",
   "name": "python3"
  },
  "language_info": {
   "codemirror_mode": {
    "name": "ipython",
    "version": 3
   },
   "file_extension": ".py",
   "mimetype": "text/x-python",
   "name": "python",
   "nbconvert_exporter": "python",
   "pygments_lexer": "ipython3",
   "version": "3.8.8"
  }
 },
 "nbformat": 4,
 "nbformat_minor": 5
}
