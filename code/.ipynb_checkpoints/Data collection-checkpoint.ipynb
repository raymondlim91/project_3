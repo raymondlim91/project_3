{
 "cells": [
  {
   "cell_type": "markdown",
   "id": "34b4a205-f04a-4e07-881e-1960d55ccad4",
   "metadata": {},
   "source": [
    "# Project 3: Web APIs & NLP"
   ]
  },
  {
   "cell_type": "markdown",
   "id": "7faa01e7-ccc5-4e17-8122-9a2c0e758c43",
   "metadata": {},
   "source": [
    "## Problem Statement\n",
    "\n",
    "Fake news is a prevalent and harmful problem in our modern society, often misleading the general public on important topics such as healthcare and defense. This can lead to long standing societal issues which are a detriment to nations worldwide.\n",
    "\n",
    "\n",
    "To tackle the problem, our team aims to develop a model using natural language processing and machine learning models to predict fake news or real news, helping government bodies/regular citizens to identify the fake news, thus creating a secure, and more misinformation-resilient society.\n",
    "\n",
    "\n",
    "- The Goal of this project is to use python code classifiers to determine if a subreddit title belongs to r/TheOnion (fake news) or r/nottheonion (real news).\n",
    "- Following tools are used to create the model. <br>\n",
    "    Vectorisers: `CountVectorizer`, `TfidfVectorizer`  \n",
    "    Estimators: `RandomForestClassifier`,`MultinomialNB`,`LogisticRegression`, `KNearestNeighbors`, and `Support vector machines model(SVM)`."
   ]
  },
  {
   "cell_type": "markdown",
   "id": "cb69e46d-18b3-4ab6-ba52-b53e246a3367",
   "metadata": {},
   "source": [
    "## Data Collection"
   ]
  },
  {
   "cell_type": "code",
   "execution_count": 1,
   "id": "187d2983-05ff-4bfd-b2f1-c6982651380e",
   "metadata": {},
   "outputs": [],
   "source": [
    "### Import libraries\n",
    "import requests\n",
    "import pandas as pd"
   ]
  },
  {
   "cell_type": "markdown",
   "id": "fae9afb1-9dc4-4f8d-93f5-7688ad9682ba",
   "metadata": {},
   "source": [
    "## Extract data from subreddits"
   ]
  },
  {
   "cell_type": "markdown",
   "id": "c7de124f-4dc5-4d9d-b36e-023f15cd08fd",
   "metadata": {},
   "source": [
    "Pulling 5000 data points from each subreddits and combine into one dataframe. "
   ]
  },
  {
   "cell_type": "markdown",
   "id": "c1b3a94f-bac2-4b1a-b2ef-ddf8cd0d5b80",
   "metadata": {},
   "source": [
    "def get_pushshift_data(params):\n",
    "    url = 'https://api.pushshift.io/reddit/search/submission'\n",
    "    res = requests.get(url,params)\n",
    "    data = res.json()\n",
    "    posts = data['data']\n",
    "    df = pd.DataFrame(posts)\n",
    "    return df"
   ]
  },
  {
   "cell_type": "code",
   "execution_count": 2,
   "id": "ff0d2a6c-8db1-444c-93d8-93a40dc17f50",
   "metadata": {},
   "outputs": [],
   "source": [
    "#create function to scrape data from subreddit.\n",
    "\n",
    "def reddit_scrape(url, subreddit, utc, number):\n",
    "    #search parameters\n",
    "    params = {\n",
    "        'subreddit': subreddit,\n",
    "        'size': 100,\n",
    "        'before': utc\n",
    "    }\n",
    "    res = requests.get(url, params)\n",
    "    data = res.json()\n",
    "    posts = data['data']\n",
    "    df = pd.DataFrame(posts)\n",
    "    \n",
    "    #repeat scrapping to achieve number of post wanted.\n",
    "    for i in range(number-1):\n",
    "        params_2 = {\n",
    "            'subreddit': subreddit,\n",
    "            'size': 100,\n",
    "            'before': df.created_utc.iloc[-1]\n",
    "        }\n",
    "        res_2 = requests.get(url, params_2)\n",
    "        data_2 = res_2.json()\n",
    "        posts_2 = data_2['data']\n",
    "        df = pd.concat([df, pd.DataFrame(posts_2)], axis=0)\n",
    "    return df"
   ]
  },
  {
   "cell_type": "code",
   "execution_count": 3,
   "id": "06a416b6-10e5-485e-a8f8-92b982a1dfce",
   "metadata": {},
   "outputs": [],
   "source": [
    "# scrape data from 1st subreddit post - 'TheOnion' (fake news)\n",
    "# time - before 2022-01-01 00:00:00 UTC\n",
    "# number of post #5000\n",
    "subreddit_1 = reddit_scrape('https://api.pushshift.io/reddit/search/submission' ,'TheOnion',1640995200, 50)"
   ]
  },
  {
   "cell_type": "code",
   "execution_count": 4,
   "id": "124d0319-824d-4f2c-b5fb-584fe11adc27",
   "metadata": {},
   "outputs": [
    {
     "data": {
      "text/html": [
       "<div>\n",
       "<style scoped>\n",
       "    .dataframe tbody tr th:only-of-type {\n",
       "        vertical-align: middle;\n",
       "    }\n",
       "\n",
       "    .dataframe tbody tr th {\n",
       "        vertical-align: top;\n",
       "    }\n",
       "\n",
       "    .dataframe thead th {\n",
       "        text-align: right;\n",
       "    }\n",
       "</style>\n",
       "<table border=\"1\" class=\"dataframe\">\n",
       "  <thead>\n",
       "    <tr style=\"text-align: right;\">\n",
       "      <th></th>\n",
       "      <th>all_awardings</th>\n",
       "      <th>allow_live_comments</th>\n",
       "      <th>author</th>\n",
       "      <th>author_flair_css_class</th>\n",
       "      <th>author_flair_richtext</th>\n",
       "      <th>author_flair_text</th>\n",
       "      <th>author_flair_type</th>\n",
       "      <th>author_fullname</th>\n",
       "      <th>author_is_blocked</th>\n",
       "      <th>author_patreon_flair</th>\n",
       "      <th>...</th>\n",
       "      <th>media_metadata</th>\n",
       "      <th>author_flair_background_color</th>\n",
       "      <th>author_flair_text_color</th>\n",
       "      <th>author_cakeday</th>\n",
       "      <th>steward_reports</th>\n",
       "      <th>removed_by</th>\n",
       "      <th>updated_utc</th>\n",
       "      <th>og_description</th>\n",
       "      <th>og_title</th>\n",
       "      <th>gilded</th>\n",
       "    </tr>\n",
       "  </thead>\n",
       "  <tbody>\n",
       "    <tr>\n",
       "      <th>0</th>\n",
       "      <td>[]</td>\n",
       "      <td>False</td>\n",
       "      <td>mothershipq</td>\n",
       "      <td>None</td>\n",
       "      <td>[]</td>\n",
       "      <td>None</td>\n",
       "      <td>text</td>\n",
       "      <td>t2_4negm</td>\n",
       "      <td>False</td>\n",
       "      <td>False</td>\n",
       "      <td>...</td>\n",
       "      <td>NaN</td>\n",
       "      <td>NaN</td>\n",
       "      <td>NaN</td>\n",
       "      <td>NaN</td>\n",
       "      <td>NaN</td>\n",
       "      <td>NaN</td>\n",
       "      <td>NaN</td>\n",
       "      <td>NaN</td>\n",
       "      <td>NaN</td>\n",
       "      <td>NaN</td>\n",
       "    </tr>\n",
       "    <tr>\n",
       "      <th>1</th>\n",
       "      <td>[]</td>\n",
       "      <td>False</td>\n",
       "      <td>-ImYourHuckleberry-</td>\n",
       "      <td>None</td>\n",
       "      <td>[]</td>\n",
       "      <td>None</td>\n",
       "      <td>text</td>\n",
       "      <td>t2_g3p2c</td>\n",
       "      <td>False</td>\n",
       "      <td>False</td>\n",
       "      <td>...</td>\n",
       "      <td>NaN</td>\n",
       "      <td>NaN</td>\n",
       "      <td>NaN</td>\n",
       "      <td>NaN</td>\n",
       "      <td>NaN</td>\n",
       "      <td>NaN</td>\n",
       "      <td>NaN</td>\n",
       "      <td>NaN</td>\n",
       "      <td>NaN</td>\n",
       "      <td>NaN</td>\n",
       "    </tr>\n",
       "    <tr>\n",
       "      <th>2</th>\n",
       "      <td>[]</td>\n",
       "      <td>False</td>\n",
       "      <td>dwaxe</td>\n",
       "      <td>None</td>\n",
       "      <td>[]</td>\n",
       "      <td>None</td>\n",
       "      <td>text</td>\n",
       "      <td>t2_3jamc</td>\n",
       "      <td>False</td>\n",
       "      <td>False</td>\n",
       "      <td>...</td>\n",
       "      <td>NaN</td>\n",
       "      <td>NaN</td>\n",
       "      <td>NaN</td>\n",
       "      <td>NaN</td>\n",
       "      <td>NaN</td>\n",
       "      <td>NaN</td>\n",
       "      <td>NaN</td>\n",
       "      <td>NaN</td>\n",
       "      <td>NaN</td>\n",
       "      <td>NaN</td>\n",
       "    </tr>\n",
       "    <tr>\n",
       "      <th>3</th>\n",
       "      <td>[]</td>\n",
       "      <td>False</td>\n",
       "      <td>dwaxe</td>\n",
       "      <td>None</td>\n",
       "      <td>[]</td>\n",
       "      <td>None</td>\n",
       "      <td>text</td>\n",
       "      <td>t2_3jamc</td>\n",
       "      <td>False</td>\n",
       "      <td>False</td>\n",
       "      <td>...</td>\n",
       "      <td>NaN</td>\n",
       "      <td>NaN</td>\n",
       "      <td>NaN</td>\n",
       "      <td>NaN</td>\n",
       "      <td>NaN</td>\n",
       "      <td>NaN</td>\n",
       "      <td>NaN</td>\n",
       "      <td>NaN</td>\n",
       "      <td>NaN</td>\n",
       "      <td>NaN</td>\n",
       "    </tr>\n",
       "    <tr>\n",
       "      <th>4</th>\n",
       "      <td>[]</td>\n",
       "      <td>False</td>\n",
       "      <td>dwaxe</td>\n",
       "      <td>None</td>\n",
       "      <td>[]</td>\n",
       "      <td>None</td>\n",
       "      <td>text</td>\n",
       "      <td>t2_3jamc</td>\n",
       "      <td>False</td>\n",
       "      <td>False</td>\n",
       "      <td>...</td>\n",
       "      <td>NaN</td>\n",
       "      <td>NaN</td>\n",
       "      <td>NaN</td>\n",
       "      <td>NaN</td>\n",
       "      <td>NaN</td>\n",
       "      <td>NaN</td>\n",
       "      <td>NaN</td>\n",
       "      <td>NaN</td>\n",
       "      <td>NaN</td>\n",
       "      <td>NaN</td>\n",
       "    </tr>\n",
       "  </tbody>\n",
       "</table>\n",
       "<p>5 rows × 83 columns</p>\n",
       "</div>"
      ],
      "text/plain": [
       "  all_awardings allow_live_comments               author  \\\n",
       "0            []               False          mothershipq   \n",
       "1            []               False  -ImYourHuckleberry-   \n",
       "2            []               False                dwaxe   \n",
       "3            []               False                dwaxe   \n",
       "4            []               False                dwaxe   \n",
       "\n",
       "  author_flair_css_class author_flair_richtext author_flair_text  \\\n",
       "0                   None                    []              None   \n",
       "1                   None                    []              None   \n",
       "2                   None                    []              None   \n",
       "3                   None                    []              None   \n",
       "4                   None                    []              None   \n",
       "\n",
       "  author_flair_type author_fullname author_is_blocked author_patreon_flair  \\\n",
       "0              text        t2_4negm             False                False   \n",
       "1              text        t2_g3p2c             False                False   \n",
       "2              text        t2_3jamc             False                False   \n",
       "3              text        t2_3jamc             False                False   \n",
       "4              text        t2_3jamc             False                False   \n",
       "\n",
       "   ... media_metadata author_flair_background_color  author_flair_text_color  \\\n",
       "0  ...            NaN                           NaN                      NaN   \n",
       "1  ...            NaN                           NaN                      NaN   \n",
       "2  ...            NaN                           NaN                      NaN   \n",
       "3  ...            NaN                           NaN                      NaN   \n",
       "4  ...            NaN                           NaN                      NaN   \n",
       "\n",
       "   author_cakeday  steward_reports removed_by updated_utc og_description  \\\n",
       "0             NaN              NaN        NaN         NaN            NaN   \n",
       "1             NaN              NaN        NaN         NaN            NaN   \n",
       "2             NaN              NaN        NaN         NaN            NaN   \n",
       "3             NaN              NaN        NaN         NaN            NaN   \n",
       "4             NaN              NaN        NaN         NaN            NaN   \n",
       "\n",
       "  og_title gilded  \n",
       "0      NaN    NaN  \n",
       "1      NaN    NaN  \n",
       "2      NaN    NaN  \n",
       "3      NaN    NaN  \n",
       "4      NaN    NaN  \n",
       "\n",
       "[5 rows x 83 columns]"
      ]
     },
     "execution_count": 4,
     "metadata": {},
     "output_type": "execute_result"
    }
   ],
   "source": [
    "subreddit_1.head()"
   ]
  },
  {
   "cell_type": "code",
   "execution_count": 5,
   "id": "6da3fe95-e53b-4239-b0ae-4c0ec647a8aa",
   "metadata": {},
   "outputs": [
    {
     "data": {
      "text/plain": [
       "(4996, 83)"
      ]
     },
     "execution_count": 5,
     "metadata": {},
     "output_type": "execute_result"
    }
   ],
   "source": [
    "subreddit_1.shape"
   ]
  },
  {
   "cell_type": "code",
   "execution_count": 6,
   "id": "d2c5d508-3a91-45b7-adc9-7da72c7dd76c",
   "metadata": {},
   "outputs": [],
   "source": [
    "# scrape data from 2nd subreddit post - 'nottheonion' (Real news)\n",
    "# time - before 2022-01-01 00:00:00 UTC\n",
    "# number of post #5000\n",
    "subreddit_2 =  reddit_scrape('https://api.pushshift.io/reddit/search/submission' ,'nottheonion', 1640995200, 50)"
   ]
  },
  {
   "cell_type": "code",
   "execution_count": 7,
   "id": "c5bcdc9c-e066-468a-bcd8-684e76e6b7c4",
   "metadata": {},
   "outputs": [
    {
     "name": "stdout",
     "output_type": "stream",
     "text": [
      "  all_awardings  allow_live_comments               author  \\\n",
      "0            []                False          Taco_duck68   \n",
      "1            []                False          BlackNingaa   \n",
      "2            []                False   Lopsided_File_1642   \n",
      "3            []                False    SkinnyWhiteGirl19   \n",
      "4            []                False  kids-cake-and-crazy   \n",
      "\n",
      "  author_flair_css_class author_flair_richtext author_flair_text  \\\n",
      "0                   None                    []              None   \n",
      "1                   None                    []              None   \n",
      "2                   None                    []              None   \n",
      "3                   None                    []              None   \n",
      "4                   None                    []              None   \n",
      "\n",
      "  author_flair_type author_fullname  author_is_blocked author_patreon_flair  \\\n",
      "0              text     t2_bqrj5t0e              False                False   \n",
      "1              text     t2_4dkbfmoo              False                False   \n",
      "2              text     t2_g3emu89f              False                False   \n",
      "3              text     t2_4xsn9mra              False                False   \n",
      "4              text     t2_8slzkqke              False                False   \n",
      "\n",
      "   ... media media_embed  secure_media  secure_media_embed  \\\n",
      "0  ...   NaN         NaN           NaN                 NaN   \n",
      "1  ...   NaN         NaN           NaN                 NaN   \n",
      "2  ...   NaN         NaN           NaN                 NaN   \n",
      "3  ...   NaN         NaN           NaN                 NaN   \n",
      "4  ...   NaN         NaN           NaN                 NaN   \n",
      "\n",
      "   author_flair_background_color author_flair_text_color author_cakeday  \\\n",
      "0                            NaN                     NaN            NaN   \n",
      "1                            NaN                     NaN            NaN   \n",
      "2                            NaN                     NaN            NaN   \n",
      "3                            NaN                     NaN            NaN   \n",
      "4                            NaN                     NaN            NaN   \n",
      "\n",
      "  link_flair_css_class link_flair_text  link_flair_template_id  \n",
      "0                  NaN             NaN                     NaN  \n",
      "1                  NaN             NaN                     NaN  \n",
      "2                  NaN             NaN                     NaN  \n",
      "3                  NaN             NaN                     NaN  \n",
      "4                  NaN             NaN                     NaN  \n",
      "\n",
      "[5 rows x 77 columns]\n",
      "(4997, 77)\n"
     ]
    }
   ],
   "source": [
    "print(subreddit_2.head())\n",
    "print(subreddit_2.shape)"
   ]
  },
  {
   "cell_type": "code",
   "execution_count": 8,
   "id": "56b12b1d-a4e3-4625-b7f9-07099d9f21ad",
   "metadata": {},
   "outputs": [
    {
     "data": {
      "text/plain": [
       "Index(['all_awardings', 'allow_live_comments', 'author',\n",
       "       'author_flair_css_class', 'author_flair_richtext', 'author_flair_text',\n",
       "       'author_flair_type', 'author_fullname', 'author_is_blocked',\n",
       "       'author_patreon_flair', 'author_premium', 'awarders', 'can_mod_post',\n",
       "       'contest_mode', 'created_utc', 'domain', 'full_link', 'gildings', 'id',\n",
       "       'is_created_from_ads_ui', 'is_crosspostable', 'is_meta',\n",
       "       'is_original_content', 'is_reddit_media_domain', 'is_robot_indexable',\n",
       "       'is_self', 'is_video', 'link_flair_background_color',\n",
       "       'link_flair_richtext', 'link_flair_text_color', 'link_flair_type',\n",
       "       'locked', 'media_only', 'no_follow', 'num_comments', 'num_crossposts',\n",
       "       'over_18', 'parent_whitelist_status', 'permalink', 'pinned',\n",
       "       'post_hint', 'preview', 'pwls', 'retrieved_on', 'score', 'selftext',\n",
       "       'send_replies', 'spoiler', 'stickied', 'subreddit', 'subreddit_id',\n",
       "       'subreddit_subscribers', 'subreddit_type', 'thumbnail',\n",
       "       'thumbnail_height', 'thumbnail_width', 'title', 'total_awards_received',\n",
       "       'treatment_tags', 'upvote_ratio', 'url', 'url_overridden_by_dest',\n",
       "       'whitelist_status', 'wls', 'crosspost_parent', 'crosspost_parent_list',\n",
       "       'removed_by_category', 'media', 'media_embed', 'secure_media',\n",
       "       'secure_media_embed', 'author_flair_background_color',\n",
       "       'author_flair_text_color', 'author_cakeday', 'link_flair_css_class',\n",
       "       'link_flair_text', 'link_flair_template_id'],\n",
       "      dtype='object')"
      ]
     },
     "execution_count": 8,
     "metadata": {},
     "output_type": "execute_result"
    }
   ],
   "source": [
    "subreddit_2.columns #check the unique columns extracted"
   ]
  },
  {
   "cell_type": "code",
   "execution_count": 9,
   "id": "1cfd6d03-8545-447f-925d-ddcf5ca020a6",
   "metadata": {},
   "outputs": [
    {
     "name": "stdout",
     "output_type": "stream",
     "text": [
      "                                               title selftext subreddit\n",
      "0  Surgeon Kind Of Pissed Patient Seeing Her Defo...           TheOnion\n",
      "1  McDonald’s blocked from building drive-through...           TheOnion\n",
      "2  Gwyneth Paltrow Touts New Diamond-Encrusted Tr...           TheOnion\n",
      "3  Artist Crafting Music Box Hopes It Delights At...           TheOnion\n",
      "4  Homeowner Trying To Smoke Out Snakes Accidenta...           TheOnion\n",
      "                                               title selftext    subreddit\n",
      "0  Man attempts to pay for car with rap, steals p...           nottheonion\n",
      "1  Former UFC fighter reveals past as sex worker ...           nottheonion\n",
      "2                                  Log into Facebook           nottheonion\n",
      "3  McDonald’s blocked from building drive-through...           nottheonion\n",
      "4  Legendary actress Betty White dies at 99 on Ne...           nottheonion\n"
     ]
    }
   ],
   "source": [
    "# select the columns for analyse\n",
    "subreddit_1 = subreddit_1[['title','selftext','subreddit']]\n",
    "print(subreddit_1.head())\n",
    "\n",
    "subreddit_2 = subreddit_2[['title','selftext','subreddit']]\n",
    "print(subreddit_2.head())\n"
   ]
  },
  {
   "cell_type": "code",
   "execution_count": 10,
   "id": "f1ec2cfb-5b14-45c1-a998-29953ca4fac4",
   "metadata": {},
   "outputs": [
    {
     "data": {
      "text/plain": [
       "(9993, 3)"
      ]
     },
     "execution_count": 10,
     "metadata": {},
     "output_type": "execute_result"
    }
   ],
   "source": [
    "# Join the two subreddit columns into one\n",
    "df = pd.concat([subreddit_1,subreddit_2], join='inner', ignore_index = True)\n",
    "df.shape"
   ]
  },
  {
   "cell_type": "code",
   "execution_count": 11,
   "id": "4af579eb-2a90-470f-b68b-15eaef6ad007",
   "metadata": {},
   "outputs": [],
   "source": [
    "#export to csv\n",
    "df.to_csv(r'../datasets/reddit_post.csv', index = False)"
   ]
  },
  {
   "cell_type": "code",
   "execution_count": null,
   "id": "2da733ec-75b2-4685-a105-21844ec057de",
   "metadata": {},
   "outputs": [],
   "source": []
  }
 ],
 "metadata": {
  "kernelspec": {
   "display_name": "Python 3",
   "language": "python",
   "name": "python3"
  },
  "language_info": {
   "codemirror_mode": {
    "name": "ipython",
    "version": 3
   },
   "file_extension": ".py",
   "mimetype": "text/x-python",
   "name": "python",
   "nbconvert_exporter": "python",
   "pygments_lexer": "ipython3",
   "version": "3.8.8"
  }
 },
 "nbformat": 4,
 "nbformat_minor": 5
}
